{
  "nbformat": 4,
  "nbformat_minor": 0,
  "metadata": {
    "colab": {
      "name": "Laya.ipynb",
      "provenance": [],
      "collapsed_sections": []
    },
    "kernelspec": {
      "name": "python3",
      "display_name": "Python 3"
    }
  },
  "cells": [
    {
      "cell_type": "code",
      "metadata": {
        "colab": {
          "base_uri": "https://localhost:8080/"
        },
        "id": "XRDQDSTI0XfR",
        "outputId": "133aa282-4e74-4faf-ba9a-598a9e9b5dec"
      },
      "source": [
        "import os\n",
        "user = 'layakarimichahrogh'\n",
        "key = '58cd771a8bf296499cfc57dda07fa8d0'\n",
        "if '.kaggle' not in os.listdir('/root'):\n",
        "    !mkdir ~/.kaggle\n",
        "!touch /root/.kaggle/kaggle.json\n",
        "!chmod 666 /root/.kaggle/kaggle.json\n",
        "with open('/root/.kaggle/kaggle.json', 'w') as f:\n",
        "    f.write('{\"username\":\"%s\",\"key\":\"%s\"}' % (user, key))\n",
        "!chmod 600 /root/.kaggle/kaggle.json\n",
        "\n",
        "!kaggle datasets download -d sudalairajkumar/novel-corona-virus-2019-dataset"
      ],
      "execution_count": null,
      "outputs": [
        {
          "output_type": "stream",
          "text": [
            "Downloading novel-corona-virus-2019-dataset.zip to /content\n",
            "100% 4.88M/4.88M [00:00<00:00, 13.2MB/s]\n",
            "\n"
          ],
          "name": "stdout"
        }
      ]
    },
    {
      "cell_type": "code",
      "metadata": {
        "colab": {
          "base_uri": "https://localhost:8080/"
        },
        "id": "ckUHw6az1B2b",
        "outputId": "c14408fc-2403-434d-ebb2-a61ffed9a607"
      },
      "source": [
        "!unzip '/content/novel-corona-virus-2019-dataset.zip'"
      ],
      "execution_count": null,
      "outputs": [
        {
          "output_type": "stream",
          "text": [
            "Archive:  /content/novel-corona-virus-2019-dataset.zip\n",
            "  inflating: COVID19_line_list_data.csv  \n",
            "  inflating: COVID19_open_line_list.csv  \n",
            "  inflating: covid_19_data.csv       \n",
            "  inflating: time_series_covid_19_confirmed.csv  \n",
            "  inflating: time_series_covid_19_confirmed_US.csv  \n",
            "  inflating: time_series_covid_19_deaths.csv  \n",
            "  inflating: time_series_covid_19_deaths_US.csv  \n",
            "  inflating: time_series_covid_19_recovered.csv  \n"
          ],
          "name": "stdout"
        }
      ]
    },
    {
      "cell_type": "code",
      "metadata": {
        "id": "c0QtPCyG3CgY"
      },
      "source": [
        "import pandas as pd\n",
        "I=pd.read_csv (\"/content/time_series_covid_19_confirmed.csv\")\n"
      ],
      "execution_count": null,
      "outputs": []
    },
    {
      "cell_type": "code",
      "metadata": {
        "id": "0xOuSaSh326L"
      },
      "source": [
        "R=pd.read_csv(\"/content/time_series_covid_19_deaths.csv\")\n"
      ],
      "execution_count": null,
      "outputs": []
    },
    {
      "cell_type": "code",
      "metadata": {
        "colab": {
          "base_uri": "https://localhost:8080/"
        },
        "id": "42B64LKB70rk",
        "outputId": "ab78cf2d-5748-4b18-a4e4-5b7d27aea6b0"
      },
      "source": [
        "import numpy as np \n",
        "\n",
        "usi=I.loc[I[\"Country/Region\"]==\"US\"]\n",
        "usi=np.array(usi)\n",
        "usi = usi.T.reshape(usi.T.shape[0],)\n",
        "usi=usi[4:]\n",
        "usi.shape"
      ],
      "execution_count": null,
      "outputs": [
        {
          "output_type": "execute_result",
          "data": {
            "text/plain": [
              "(320,)"
            ]
          },
          "metadata": {
            "tags": []
          },
          "execution_count": 5
        }
      ]
    },
    {
      "cell_type": "code",
      "metadata": {
        "id": "LPVph8k5n1H8",
        "colab": {
          "base_uri": "https://localhost:8080/"
        },
        "outputId": "11788e72-762d-4178-8527-6873361ee9c6"
      },
      "source": [
        "import numpy as np\n",
        "\n",
        "usd=R.loc[R[\"Country/Region\"]==\"US\"]\n",
        "usd=np.array(usd)\n",
        "usd = usd.T.reshape(usd.T.shape[0],)\n",
        "usd=usd[4:]\n",
        "usd.shape"
      ],
      "execution_count": null,
      "outputs": [
        {
          "output_type": "execute_result",
          "data": {
            "text/plain": [
              "(320,)"
            ]
          },
          "metadata": {
            "tags": []
          },
          "execution_count": 7
        }
      ]
    },
    {
      "cell_type": "code",
      "metadata": {
        "id": "_iNIl5v6o-Pr",
        "colab": {
          "base_uri": "https://localhost:8080/",
          "height": 542
        },
        "outputId": "415da71f-db74-44f6-c7e2-1e693d3a77fa"
      },
      "source": [
        "import plotly.express as px\n",
        "import plotly.graph_objects as go\n",
        "\n",
        "import plotly.express as px\n",
        "\n",
        "y=list(range(usi.shape[0]))\n",
        "\n",
        "fig = px.line()\n",
        "fig.add_scatter(y=usd,x=y,mode='lines',name='US Death')\n",
        "fig.update_yaxes(type=\"log\")\n",
        "fig.add_scatter(y=usi,x=y,name='US Infection')\n",
        "\n",
        "fig.show()"
      ],
      "execution_count": null,
      "outputs": [
        {
          "output_type": "display_data",
          "data": {
            "text/html": [
              "<html>\n",
              "<head><meta charset=\"utf-8\" /></head>\n",
              "<body>\n",
              "    <div>\n",
              "            <script src=\"https://cdnjs.cloudflare.com/ajax/libs/mathjax/2.7.5/MathJax.js?config=TeX-AMS-MML_SVG\"></script><script type=\"text/javascript\">if (window.MathJax) {MathJax.Hub.Config({SVG: {font: \"STIX-Web\"}});}</script>\n",
              "                <script type=\"text/javascript\">window.PlotlyConfig = {MathJaxConfig: 'local'};</script>\n",
              "        <script src=\"https://cdn.plot.ly/plotly-latest.min.js\"></script>    \n",
              "            <div id=\"62a9f9e9-0c67-4f7b-99ed-e3822d60fb90\" class=\"plotly-graph-div\" style=\"height:525px; width:100%;\"></div>\n",
              "            <script type=\"text/javascript\">\n",
              "                \n",
              "                    window.PLOTLYENV=window.PLOTLYENV || {};\n",
              "                    \n",
              "                if (document.getElementById(\"62a9f9e9-0c67-4f7b-99ed-e3822d60fb90\")) {\n",
              "                    Plotly.newPlot(\n",
              "                        '62a9f9e9-0c67-4f7b-99ed-e3822d60fb90',\n",
              "                        [{\"mode\": \"lines\", \"name\": \"US Death\", \"type\": \"scatter\", \"x\": [0, 1, 2, 3, 4, 5, 6, 7, 8, 9, 10, 11, 12, 13, 14, 15, 16, 17, 18, 19, 20, 21, 22, 23, 24, 25, 26, 27, 28, 29, 30, 31, 32, 33, 34, 35, 36, 37, 38, 39, 40, 41, 42, 43, 44, 45, 46, 47, 48, 49, 50, 51, 52, 53, 54, 55, 56, 57, 58, 59, 60, 61, 62, 63, 64, 65, 66, 67, 68, 69, 70, 71, 72, 73, 74, 75, 76, 77, 78, 79, 80, 81, 82, 83, 84, 85, 86, 87, 88, 89, 90, 91, 92, 93, 94, 95, 96, 97, 98, 99, 100, 101, 102, 103, 104, 105, 106, 107, 108, 109, 110, 111, 112, 113, 114, 115, 116, 117, 118, 119, 120, 121, 122, 123, 124, 125, 126, 127, 128, 129, 130, 131, 132, 133, 134, 135, 136, 137, 138, 139, 140, 141, 142, 143, 144, 145, 146, 147, 148, 149, 150, 151, 152, 153, 154, 155, 156, 157, 158, 159, 160, 161, 162, 163, 164, 165, 166, 167, 168, 169, 170, 171, 172, 173, 174, 175, 176, 177, 178, 179, 180, 181, 182, 183, 184, 185, 186, 187, 188, 189, 190, 191, 192, 193, 194, 195, 196, 197, 198, 199, 200, 201, 202, 203, 204, 205, 206, 207, 208, 209, 210, 211, 212, 213, 214, 215, 216, 217, 218, 219, 220, 221, 222, 223, 224, 225, 226, 227, 228, 229, 230, 231, 232, 233, 234, 235, 236, 237, 238, 239, 240, 241, 242, 243, 244, 245, 246, 247, 248, 249, 250, 251, 252, 253, 254, 255, 256, 257, 258, 259, 260, 261, 262, 263, 264, 265, 266, 267, 268, 269, 270, 271, 272, 273, 274, 275, 276, 277, 278, 279, 280, 281, 282, 283, 284, 285, 286, 287, 288, 289, 290, 291, 292, 293, 294, 295, 296, 297, 298, 299, 300, 301, 302, 303, 304, 305, 306, 307, 308, 309, 310, 311, 312, 313, 314, 315, 316, 317, 318, 319], \"y\": [0, 0, 0, 0, 0, 0, 0, 0, 0, 0, 0, 0, 0, 0, 0, 0, 0, 0, 0, 0, 0, 0, 0, 0, 0, 0, 0, 0, 0, 0, 0, 0, 0, 0, 0, 0, 0, 0, 1, 1, 6, 7, 11, 12, 14, 17, 21, 22, 28, 33, 43, 51, 58, 70, 97, 132, 191, 264, 365, 464, 574, 762, 1003, 1329, 1741, 2259, 2892, 3484, 4180, 5272, 6452, 7955, 9348, 10889, 12457, 14233, 16803, 18957, 21176, 23403, 25527, 27342, 29280, 31734, 34337, 36506, 38599, 40568, 42499, 44679, 47221, 49659, 52125, 54285, 55988, 57322, 58787, 61028, 63555, 65971, 67848, 69535, 70638, 71956, 74255, 76599, 78523, 80275, 81817, 82717, 83719, 85333, 87082, 88856, 90520, 91792, 92547, 93714, 95240, 96758, 97969, 99214, 100348, 100964, 101521, 102185, 103693, 104876, 106031, 106985, 107674, 108451, 109500, 110494, 111499, 112405, 113102, 113543, 114040, 114970, 115869, 116723, 117543, 118316, 118629, 119012, 119833, 120564, 121272, 121934, 122540, 122833, 123217, 124059, 124815, 125360, 125981, 126483, 126761, 127139, 127787, 128479, 129199, 129858, 130127, 130416, 130777, 131984, 132847, 133845, 134666, 135359, 135820, 136188, 137108, 138080, 139030, 139963, 140825, 141278, 141802, 142903, 144123, 145215, 146345, 147233, 147716, 148835, 150204, 151635, 152851, 154093, 155202, 155613, 156152, 157526, 158902, 160150, 161388, 162470, 162986, 163513, 164581, 166087, 167151, 168494, 169524, 170099, 170545, 171876, 173207, 174285, 175397, 176381, 176836, 177279, 178509, 179737, 180842, 181813, 182651, 183089, 183684, 184749, 185801, 186868, 187838, 188610, 189020, 189296, 189741, 190923, 191831, 193043, 193755, 194141, 194563, 195851, 196839, 197705, 198634, 199352, 199593, 200015, 201038, 202140, 203057, 203996, 204745, 205027, 205352, 206257, 207199, 208050, 208979, 209659, 210008, 210469, 211170, 212100, 213065, 214029, 214656, 215080, 215415, 216212, 217213, 218032, 218936, 219681, 220112, 220576, 221511, 222666, 223515, 224466, 225404, 225782, 226272, 227240, 228248, 229214, 230242, 231127, 231535, 232067, 233638, 234728, 235878, 237073, 238082, 238555, 239242, 240623, 242036, 243245, 244404, 245664, 246292, 247030, 248724, 250621, 252609, 254517, 255947, 256869, 257782, 259929, 262222, 263456, 264858, 266047, 266873, 268045, 270642, 273446, 276325, 278932, 281186, 282299]}, {\"name\": \"US Infection\", \"type\": \"scatter\", \"x\": [0, 1, 2, 3, 4, 5, 6, 7, 8, 9, 10, 11, 12, 13, 14, 15, 16, 17, 18, 19, 20, 21, 22, 23, 24, 25, 26, 27, 28, 29, 30, 31, 32, 33, 34, 35, 36, 37, 38, 39, 40, 41, 42, 43, 44, 45, 46, 47, 48, 49, 50, 51, 52, 53, 54, 55, 56, 57, 58, 59, 60, 61, 62, 63, 64, 65, 66, 67, 68, 69, 70, 71, 72, 73, 74, 75, 76, 77, 78, 79, 80, 81, 82, 83, 84, 85, 86, 87, 88, 89, 90, 91, 92, 93, 94, 95, 96, 97, 98, 99, 100, 101, 102, 103, 104, 105, 106, 107, 108, 109, 110, 111, 112, 113, 114, 115, 116, 117, 118, 119, 120, 121, 122, 123, 124, 125, 126, 127, 128, 129, 130, 131, 132, 133, 134, 135, 136, 137, 138, 139, 140, 141, 142, 143, 144, 145, 146, 147, 148, 149, 150, 151, 152, 153, 154, 155, 156, 157, 158, 159, 160, 161, 162, 163, 164, 165, 166, 167, 168, 169, 170, 171, 172, 173, 174, 175, 176, 177, 178, 179, 180, 181, 182, 183, 184, 185, 186, 187, 188, 189, 190, 191, 192, 193, 194, 195, 196, 197, 198, 199, 200, 201, 202, 203, 204, 205, 206, 207, 208, 209, 210, 211, 212, 213, 214, 215, 216, 217, 218, 219, 220, 221, 222, 223, 224, 225, 226, 227, 228, 229, 230, 231, 232, 233, 234, 235, 236, 237, 238, 239, 240, 241, 242, 243, 244, 245, 246, 247, 248, 249, 250, 251, 252, 253, 254, 255, 256, 257, 258, 259, 260, 261, 262, 263, 264, 265, 266, 267, 268, 269, 270, 271, 272, 273, 274, 275, 276, 277, 278, 279, 280, 281, 282, 283, 284, 285, 286, 287, 288, 289, 290, 291, 292, 293, 294, 295, 296, 297, 298, 299, 300, 301, 302, 303, 304, 305, 306, 307, 308, 309, 310, 311, 312, 313, 314, 315, 316, 317, 318, 319], \"y\": [1, 1, 2, 2, 5, 5, 5, 6, 6, 8, 8, 8, 11, 11, 11, 12, 12, 12, 12, 12, 13, 13, 14, 14, 14, 14, 14, 14, 14, 14, 16, 16, 16, 16, 16, 16, 17, 17, 25, 32, 55, 74, 107, 184, 237, 403, 519, 594, 782, 1147, 1586, 2219, 2978, 3212, 4679, 6512, 9169, 13663, 20030, 26025, 34855, 46086, 56698, 68773, 86613, 105293, 124900, 143779, 165861, 192177, 218060, 248447, 280417, 313432, 341629, 371802, 403212, 435407, 469989, 503474, 532782, 559709, 585518, 614082, 644247, 675648, 708317, 736244, 761933, 790353, 816413, 845727, 878911, 912662, 944234, 971078, 994265, 1018926, 1046737, 1076224, 1110464, 1138228, 1162685, 1186067, 1210577, 1235666, 1263402, 1290151, 1315099, 1333970, 1353397, 1376122, 1397085, 1424243, 1449498, 1473514, 1491829, 1513816, 1534871, 1557933, 1583798, 1607109, 1628212, 1648158, 1666505, 1685956, 1704489, 1727357, 1751612, 1775428, 1794465, 1811393, 1832782, 1852788, 1874156, 1899505, 1920910, 1938572, 1956064, 1974425, 1995376, 2018418, 2043332, 2068600, 2087619, 2107075, 2130768, 2157267, 2185134, 2216115, 2248032, 2274000, 2304676, 2340884, 2375310, 2415666, 2461019, 2502378, 2542787, 2582844, 2628824, 2680312, 2735900, 2787741, 2833290, 2882870, 2927032, 2987787, 3047527, 3110094, 3177953, 3237991, 3297076, 3355869, 3423296, 3490931, 3568033, 3639705, 3702175, 3762891, 3824368, 3888607, 3960522, 4029033, 4102241, 4167616, 4222480, 4278427, 4344212, 4416044, 4483643, 4551554, 4609393, 4655662, 4700229, 4757512, 4811945, 4871426, 4929748, 4984197, 5030566, 5079299, 5126209, 5183020, 5234762, 5299526, 5346316, 5387497, 5423981, 5469015, 5516408, 5560495, 5608748, 5652401, 5686911, 5723343, 5763322, 5808842, 5853962, 5900891, 5946305, 5981092, 6016230, 6057907, 6098858, 6142639, 6192768, 6235960, 6267471, 6291016, 6317861, 6351756, 6387822, 6435261, 6476264, 6510569, 6544411, 6583796, 6622256, 6667178, 6715928, 6758440, 6796884, 6848379, 6887861, 6926442, 6972152, 7020206, 7064600, 7101880, 7134164, 7176856, 7218052, 7263409, 7317878, 7366505, 7402597, 7441432, 7485381, 7536022, 7594351, 7650345, 7704419, 7750367, 7790890, 7843769, 7903242, 7967600, 8036049, 8093003, 8142357, 8209226, 8270314, 8333340, 8408675, 8489662, 8572483, 8634285, 8700789, 8776790, 8855474, 8945642, 9044161, 9133098, 9208669, 9292156, 9416709, 9519582, 9645772, 9771480, 9899516, 10009542, 10130752, 10268446, 10412095, 10573242, 10750810, 10917560, 11053501, 11211321, 11371895, 11542408, 11730441, 11925959, 12104056, 12246863, 12418378, 12591366, 12772653, 12883307, 13088821, 13244701, 13383370, 13541221, 13721858, 13921913, 14139577, 14367462, 14581337, 14757000]}],\n",
              "                        {\"legend\": {\"tracegroupgap\": 0}, \"margin\": {\"t\": 60}, \"template\": {\"data\": {\"bar\": [{\"error_x\": {\"color\": \"#2a3f5f\"}, \"error_y\": {\"color\": \"#2a3f5f\"}, \"marker\": {\"line\": {\"color\": \"#E5ECF6\", \"width\": 0.5}}, \"type\": \"bar\"}], \"barpolar\": [{\"marker\": {\"line\": {\"color\": \"#E5ECF6\", \"width\": 0.5}}, \"type\": \"barpolar\"}], \"carpet\": [{\"aaxis\": {\"endlinecolor\": \"#2a3f5f\", \"gridcolor\": \"white\", \"linecolor\": \"white\", \"minorgridcolor\": \"white\", \"startlinecolor\": \"#2a3f5f\"}, \"baxis\": {\"endlinecolor\": \"#2a3f5f\", \"gridcolor\": \"white\", \"linecolor\": \"white\", \"minorgridcolor\": \"white\", \"startlinecolor\": \"#2a3f5f\"}, \"type\": \"carpet\"}], \"choropleth\": [{\"colorbar\": {\"outlinewidth\": 0, \"ticks\": \"\"}, \"type\": \"choropleth\"}], \"contour\": [{\"colorbar\": {\"outlinewidth\": 0, \"ticks\": \"\"}, \"colorscale\": [[0.0, \"#0d0887\"], [0.1111111111111111, \"#46039f\"], [0.2222222222222222, \"#7201a8\"], [0.3333333333333333, \"#9c179e\"], [0.4444444444444444, \"#bd3786\"], [0.5555555555555556, \"#d8576b\"], [0.6666666666666666, \"#ed7953\"], [0.7777777777777778, \"#fb9f3a\"], [0.8888888888888888, \"#fdca26\"], [1.0, \"#f0f921\"]], \"type\": \"contour\"}], \"contourcarpet\": [{\"colorbar\": {\"outlinewidth\": 0, \"ticks\": \"\"}, \"type\": \"contourcarpet\"}], \"heatmap\": [{\"colorbar\": {\"outlinewidth\": 0, \"ticks\": \"\"}, \"colorscale\": [[0.0, \"#0d0887\"], [0.1111111111111111, \"#46039f\"], [0.2222222222222222, \"#7201a8\"], [0.3333333333333333, \"#9c179e\"], [0.4444444444444444, \"#bd3786\"], [0.5555555555555556, \"#d8576b\"], [0.6666666666666666, \"#ed7953\"], [0.7777777777777778, \"#fb9f3a\"], [0.8888888888888888, \"#fdca26\"], [1.0, \"#f0f921\"]], \"type\": \"heatmap\"}], \"heatmapgl\": [{\"colorbar\": {\"outlinewidth\": 0, \"ticks\": \"\"}, \"colorscale\": [[0.0, \"#0d0887\"], [0.1111111111111111, \"#46039f\"], [0.2222222222222222, \"#7201a8\"], [0.3333333333333333, \"#9c179e\"], [0.4444444444444444, \"#bd3786\"], [0.5555555555555556, \"#d8576b\"], [0.6666666666666666, \"#ed7953\"], [0.7777777777777778, \"#fb9f3a\"], [0.8888888888888888, \"#fdca26\"], [1.0, \"#f0f921\"]], \"type\": \"heatmapgl\"}], \"histogram\": [{\"marker\": {\"colorbar\": {\"outlinewidth\": 0, \"ticks\": \"\"}}, \"type\": \"histogram\"}], \"histogram2d\": [{\"colorbar\": {\"outlinewidth\": 0, \"ticks\": \"\"}, \"colorscale\": [[0.0, \"#0d0887\"], [0.1111111111111111, \"#46039f\"], [0.2222222222222222, \"#7201a8\"], [0.3333333333333333, \"#9c179e\"], [0.4444444444444444, \"#bd3786\"], [0.5555555555555556, \"#d8576b\"], [0.6666666666666666, \"#ed7953\"], [0.7777777777777778, \"#fb9f3a\"], [0.8888888888888888, \"#fdca26\"], [1.0, \"#f0f921\"]], \"type\": \"histogram2d\"}], \"histogram2dcontour\": [{\"colorbar\": {\"outlinewidth\": 0, \"ticks\": \"\"}, \"colorscale\": [[0.0, \"#0d0887\"], [0.1111111111111111, \"#46039f\"], [0.2222222222222222, \"#7201a8\"], [0.3333333333333333, \"#9c179e\"], [0.4444444444444444, \"#bd3786\"], [0.5555555555555556, \"#d8576b\"], [0.6666666666666666, \"#ed7953\"], [0.7777777777777778, \"#fb9f3a\"], [0.8888888888888888, \"#fdca26\"], [1.0, \"#f0f921\"]], \"type\": \"histogram2dcontour\"}], \"mesh3d\": [{\"colorbar\": {\"outlinewidth\": 0, \"ticks\": \"\"}, \"type\": \"mesh3d\"}], \"parcoords\": [{\"line\": {\"colorbar\": {\"outlinewidth\": 0, \"ticks\": \"\"}}, \"type\": \"parcoords\"}], \"pie\": [{\"automargin\": true, \"type\": \"pie\"}], \"scatter\": [{\"marker\": {\"colorbar\": {\"outlinewidth\": 0, \"ticks\": \"\"}}, \"type\": \"scatter\"}], \"scatter3d\": [{\"line\": {\"colorbar\": {\"outlinewidth\": 0, \"ticks\": \"\"}}, \"marker\": {\"colorbar\": {\"outlinewidth\": 0, \"ticks\": \"\"}}, \"type\": \"scatter3d\"}], \"scattercarpet\": [{\"marker\": {\"colorbar\": {\"outlinewidth\": 0, \"ticks\": \"\"}}, \"type\": \"scattercarpet\"}], \"scattergeo\": [{\"marker\": {\"colorbar\": {\"outlinewidth\": 0, \"ticks\": \"\"}}, \"type\": \"scattergeo\"}], \"scattergl\": [{\"marker\": {\"colorbar\": {\"outlinewidth\": 0, \"ticks\": \"\"}}, \"type\": \"scattergl\"}], \"scattermapbox\": [{\"marker\": {\"colorbar\": {\"outlinewidth\": 0, \"ticks\": \"\"}}, \"type\": \"scattermapbox\"}], \"scatterpolar\": [{\"marker\": {\"colorbar\": {\"outlinewidth\": 0, \"ticks\": \"\"}}, \"type\": \"scatterpolar\"}], \"scatterpolargl\": [{\"marker\": {\"colorbar\": {\"outlinewidth\": 0, \"ticks\": \"\"}}, \"type\": \"scatterpolargl\"}], \"scatterternary\": [{\"marker\": {\"colorbar\": {\"outlinewidth\": 0, \"ticks\": \"\"}}, \"type\": \"scatterternary\"}], \"surface\": [{\"colorbar\": {\"outlinewidth\": 0, \"ticks\": \"\"}, \"colorscale\": [[0.0, \"#0d0887\"], [0.1111111111111111, \"#46039f\"], [0.2222222222222222, \"#7201a8\"], [0.3333333333333333, \"#9c179e\"], [0.4444444444444444, \"#bd3786\"], [0.5555555555555556, \"#d8576b\"], [0.6666666666666666, \"#ed7953\"], [0.7777777777777778, \"#fb9f3a\"], [0.8888888888888888, \"#fdca26\"], [1.0, \"#f0f921\"]], \"type\": \"surface\"}], \"table\": [{\"cells\": {\"fill\": {\"color\": \"#EBF0F8\"}, \"line\": {\"color\": \"white\"}}, \"header\": {\"fill\": {\"color\": \"#C8D4E3\"}, \"line\": {\"color\": \"white\"}}, \"type\": \"table\"}]}, \"layout\": {\"annotationdefaults\": {\"arrowcolor\": \"#2a3f5f\", \"arrowhead\": 0, \"arrowwidth\": 1}, \"coloraxis\": {\"colorbar\": {\"outlinewidth\": 0, \"ticks\": \"\"}}, \"colorscale\": {\"diverging\": [[0, \"#8e0152\"], [0.1, \"#c51b7d\"], [0.2, \"#de77ae\"], [0.3, \"#f1b6da\"], [0.4, \"#fde0ef\"], [0.5, \"#f7f7f7\"], [0.6, \"#e6f5d0\"], [0.7, \"#b8e186\"], [0.8, \"#7fbc41\"], [0.9, \"#4d9221\"], [1, \"#276419\"]], \"sequential\": [[0.0, \"#0d0887\"], [0.1111111111111111, \"#46039f\"], [0.2222222222222222, \"#7201a8\"], [0.3333333333333333, \"#9c179e\"], [0.4444444444444444, \"#bd3786\"], [0.5555555555555556, \"#d8576b\"], [0.6666666666666666, \"#ed7953\"], [0.7777777777777778, \"#fb9f3a\"], [0.8888888888888888, \"#fdca26\"], [1.0, \"#f0f921\"]], \"sequentialminus\": [[0.0, \"#0d0887\"], [0.1111111111111111, \"#46039f\"], [0.2222222222222222, \"#7201a8\"], [0.3333333333333333, \"#9c179e\"], [0.4444444444444444, \"#bd3786\"], [0.5555555555555556, \"#d8576b\"], [0.6666666666666666, \"#ed7953\"], [0.7777777777777778, \"#fb9f3a\"], [0.8888888888888888, \"#fdca26\"], [1.0, \"#f0f921\"]]}, \"colorway\": [\"#636efa\", \"#EF553B\", \"#00cc96\", \"#ab63fa\", \"#FFA15A\", \"#19d3f3\", \"#FF6692\", \"#B6E880\", \"#FF97FF\", \"#FECB52\"], \"font\": {\"color\": \"#2a3f5f\"}, \"geo\": {\"bgcolor\": \"white\", \"lakecolor\": \"white\", \"landcolor\": \"#E5ECF6\", \"showlakes\": true, \"showland\": true, \"subunitcolor\": \"white\"}, \"hoverlabel\": {\"align\": \"left\"}, \"hovermode\": \"closest\", \"mapbox\": {\"style\": \"light\"}, \"paper_bgcolor\": \"white\", \"plot_bgcolor\": \"#E5ECF6\", \"polar\": {\"angularaxis\": {\"gridcolor\": \"white\", \"linecolor\": \"white\", \"ticks\": \"\"}, \"bgcolor\": \"#E5ECF6\", \"radialaxis\": {\"gridcolor\": \"white\", \"linecolor\": \"white\", \"ticks\": \"\"}}, \"scene\": {\"xaxis\": {\"backgroundcolor\": \"#E5ECF6\", \"gridcolor\": \"white\", \"gridwidth\": 2, \"linecolor\": \"white\", \"showbackground\": true, \"ticks\": \"\", \"zerolinecolor\": \"white\"}, \"yaxis\": {\"backgroundcolor\": \"#E5ECF6\", \"gridcolor\": \"white\", \"gridwidth\": 2, \"linecolor\": \"white\", \"showbackground\": true, \"ticks\": \"\", \"zerolinecolor\": \"white\"}, \"zaxis\": {\"backgroundcolor\": \"#E5ECF6\", \"gridcolor\": \"white\", \"gridwidth\": 2, \"linecolor\": \"white\", \"showbackground\": true, \"ticks\": \"\", \"zerolinecolor\": \"white\"}}, \"shapedefaults\": {\"line\": {\"color\": \"#2a3f5f\"}}, \"ternary\": {\"aaxis\": {\"gridcolor\": \"white\", \"linecolor\": \"white\", \"ticks\": \"\"}, \"baxis\": {\"gridcolor\": \"white\", \"linecolor\": \"white\", \"ticks\": \"\"}, \"bgcolor\": \"#E5ECF6\", \"caxis\": {\"gridcolor\": \"white\", \"linecolor\": \"white\", \"ticks\": \"\"}}, \"title\": {\"x\": 0.05}, \"xaxis\": {\"automargin\": true, \"gridcolor\": \"white\", \"linecolor\": \"white\", \"ticks\": \"\", \"title\": {\"standoff\": 15}, \"zerolinecolor\": \"white\", \"zerolinewidth\": 2}, \"yaxis\": {\"automargin\": true, \"gridcolor\": \"white\", \"linecolor\": \"white\", \"ticks\": \"\", \"title\": {\"standoff\": 15}, \"zerolinecolor\": \"white\", \"zerolinewidth\": 2}}}, \"xaxis\": {\"anchor\": \"y\", \"domain\": [0.0, 1.0]}, \"yaxis\": {\"anchor\": \"x\", \"domain\": [0.0, 1.0], \"type\": \"log\"}},\n",
              "                        {\"responsive\": true}\n",
              "                    ).then(function(){\n",
              "                            \n",
              "var gd = document.getElementById('62a9f9e9-0c67-4f7b-99ed-e3822d60fb90');\n",
              "var x = new MutationObserver(function (mutations, observer) {{\n",
              "        var display = window.getComputedStyle(gd).display;\n",
              "        if (!display || display === 'none') {{\n",
              "            console.log([gd, 'removed!']);\n",
              "            Plotly.purge(gd);\n",
              "            observer.disconnect();\n",
              "        }}\n",
              "}});\n",
              "\n",
              "// Listen for the removal of the full notebook cells\n",
              "var notebookContainer = gd.closest('#notebook-container');\n",
              "if (notebookContainer) {{\n",
              "    x.observe(notebookContainer, {childList: true});\n",
              "}}\n",
              "\n",
              "// Listen for the clearing of the current output cell\n",
              "var outputEl = gd.closest('.output');\n",
              "if (outputEl) {{\n",
              "    x.observe(outputEl, {childList: true});\n",
              "}}\n",
              "\n",
              "                        })\n",
              "                };\n",
              "                \n",
              "            </script>\n",
              "        </div>\n",
              "</body>\n",
              "</html>"
            ]
          },
          "metadata": {
            "tags": []
          }
        }
      ]
    },
    {
      "cell_type": "code",
      "metadata": {
        "id": "01Vim-YRqAn2"
      },
      "source": [
        "nd = 60\n",
        "\n",
        "\n",
        "xi = []\n",
        "yi = []\n",
        "\n",
        "for i in range(nd,len (usi)):\n",
        "  xii = []\n",
        "  for j in range(nd):\n",
        "    xii.append(usi[i-nd+j])\n",
        "  xi.append(xii)\n",
        "  yi.append(usi[i])\n",
        "\n",
        "\n",
        "xd = []\n",
        "yd = []\n",
        "\n",
        "for i in range(nd,len (usd)):\n",
        "  xdd = []\n",
        "  for j in range(nd):\n",
        "    xdd.append(usd[i-nd+j])\n",
        "  xd.append(xdd)\n",
        "  yd.append(usd[i])"
      ],
      "execution_count": null,
      "outputs": []
    },
    {
      "cell_type": "code",
      "metadata": {
        "colab": {
          "base_uri": "https://localhost:8080/"
        },
        "id": "h4R2XYpIru0j",
        "outputId": "8bbf1c3a-bf45-481c-c667-de4bd3943153"
      },
      "source": [
        "print(len(xd[0]))\n",
        "print(xd[0])\n",
        "print(yd[0])"
      ],
      "execution_count": null,
      "outputs": [
        {
          "output_type": "stream",
          "text": [
            "60\n",
            "[0, 0, 0, 0, 0, 0, 0, 0, 0, 0, 0, 0, 0, 0, 0, 0, 0, 0, 0, 0, 0, 0, 0, 0, 0, 0, 0, 0, 0, 0, 0, 0, 0, 0, 0, 0, 0, 0, 1, 1, 6, 7, 11, 12, 14, 17, 21, 22, 28, 33, 43, 51, 58, 70, 97, 132, 191, 264, 365, 464]\n",
            "574\n"
          ],
          "name": "stdout"
        }
      ]
    },
    {
      "cell_type": "code",
      "metadata": {
        "colab": {
          "base_uri": "https://localhost:8080/"
        },
        "id": "iwEWW8D5w3q_",
        "outputId": "5949781e-b07d-4496-958a-2204e732a858"
      },
      "source": [
        "xi = np.array(xi)\n",
        "xd = np.array(xd)\n",
        "yi = np.array(yi)\n",
        "yd = np.array(yd)\n",
        "\n",
        "xi = xi.astype(float)\n",
        "yi = yi.astype(float)\n",
        "xd = xd.astype(float)\n",
        "yd = yd.astype(float)\n",
        "\n",
        "print(xi.shape)\n",
        "print(xd.shape)\n",
        "print(yi.shape)\n",
        "print(yd.shape)"
      ],
      "execution_count": null,
      "outputs": [
        {
          "output_type": "stream",
          "text": [
            "(260, 60)\n",
            "(260, 60)\n",
            "(260,)\n",
            "(260,)\n"
          ],
          "name": "stdout"
        }
      ]
    },
    {
      "cell_type": "code",
      "metadata": {
        "colab": {
          "base_uri": "https://localhost:8080/"
        },
        "id": "SdiFbApqsWg8",
        "outputId": "1ea24ea5-1432-4c5a-9d24-aa6764ff06c5"
      },
      "source": [
        "from tensorflow.keras.layers import *\n",
        "from tensorflow.keras.models import *\n",
        "from tensorflow.keras.callbacks import *\n",
        "\n",
        "m = Sequential()\n",
        "\n",
        "m.add(Dense(1000, activation='relu'))\n",
        "m.add(Dense(100, activation='relu'))\n",
        "m.add(Dense(10, activation='relu'))\n",
        "m.add(Dense(1,activation='linear'))\n",
        "\n",
        "m.compile(optimizer='adam',loss='mse', metrics='mae')\n",
        "\n",
        "def fit_model(model):\n",
        "    early_stop = EarlyStopping(monitor = 'loss',\n",
        "                                               patience = 10)\n",
        "    history = model.fit(xi, yi, epochs = 200,  \n",
        "                        validation_split = 0.1, batch_size = 1, \n",
        "                        shuffle = False, callbacks = [early_stop])\n",
        "    return history\n",
        "\n",
        "fit_model(m)"
      ],
      "execution_count": null,
      "outputs": [
        {
          "output_type": "stream",
          "text": [
            "Epoch 1/200\n",
            "234/234 [==============================] - 0s 2ms/step - loss: 25245054976.0000 - mae: 103454.7891 - val_loss: 173846478848.0000 - val_mae: 357614.8750\n",
            "Epoch 2/200\n",
            "234/234 [==============================] - 0s 1ms/step - loss: 7572399104.0000 - mae: 52913.7148 - val_loss: 633791905792.0000 - val_mae: 686507.3750\n",
            "Epoch 3/200\n",
            "234/234 [==============================] - 0s 1ms/step - loss: 3901355520.0000 - mae: 29517.2324 - val_loss: 1256213577728.0000 - val_mae: 1029085.6875\n",
            "Epoch 4/200\n",
            "234/234 [==============================] - 0s 1ms/step - loss: 8745114624.0000 - mae: 53900.8750 - val_loss: 754157813760.0000 - val_mae: 755844.3750\n",
            "Epoch 5/200\n",
            "234/234 [==============================] - 0s 1ms/step - loss: 2063010560.0000 - mae: 27810.5898 - val_loss: 1568931708928.0000 - val_mae: 1163960.5000\n",
            "Epoch 6/200\n",
            "234/234 [==============================] - 0s 1ms/step - loss: 18432258048.0000 - mae: 83109.7266 - val_loss: 45885005824.0000 - val_mae: 180619.3438\n",
            "Epoch 7/200\n",
            "234/234 [==============================] - 0s 1ms/step - loss: 5677016576.0000 - mae: 41358.9258 - val_loss: 631930159104.0000 - val_mae: 728823.2500\n",
            "Epoch 8/200\n",
            "234/234 [==============================] - 0s 1ms/step - loss: 3825745152.0000 - mae: 43781.3906 - val_loss: 931421749248.0000 - val_mae: 891208.7500\n",
            "Epoch 9/200\n",
            "234/234 [==============================] - 0s 1ms/step - loss: 10360715264.0000 - mae: 60731.0742 - val_loss: 803299328000.0000 - val_mae: 846841.2500\n",
            "Epoch 10/200\n",
            "234/234 [==============================] - 0s 1ms/step - loss: 12441903104.0000 - mae: 73835.9375 - val_loss: 151936466944.0000 - val_mae: 380716.1562\n",
            "Epoch 11/200\n",
            "234/234 [==============================] - 0s 1ms/step - loss: 4557906432.0000 - mae: 47089.4062 - val_loss: 338831769600.0000 - val_mae: 545452.8750\n",
            "Epoch 12/200\n",
            "234/234 [==============================] - 0s 1ms/step - loss: 7568456192.0000 - mae: 51795.3750 - val_loss: 4201487360.0000 - val_mae: 50079.9609\n",
            "Epoch 13/200\n",
            "234/234 [==============================] - 0s 1ms/step - loss: 1819844864.0000 - mae: 26870.8711 - val_loss: 147260063744.0000 - val_mae: 349852.8438\n",
            "Epoch 14/200\n",
            "234/234 [==============================] - 0s 1ms/step - loss: 2383852032.0000 - mae: 34677.6328 - val_loss: 175553347584.0000 - val_mae: 375059.1875\n",
            "Epoch 15/200\n",
            "234/234 [==============================] - 0s 1ms/step - loss: 16799814656.0000 - mae: 48416.4883 - val_loss: 44008906752.0000 - val_mae: 180939.5312\n",
            "Epoch 16/200\n",
            "234/234 [==============================] - 0s 2ms/step - loss: 5084530688.0000 - mae: 39854.1758 - val_loss: 563442810880.0000 - val_mae: 696327.5625\n",
            "Epoch 17/200\n",
            "234/234 [==============================] - 0s 1ms/step - loss: 1540978048.0000 - mae: 24350.9180 - val_loss: 385292959744.0000 - val_mae: 565505.0625\n",
            "Epoch 18/200\n",
            "234/234 [==============================] - 0s 1ms/step - loss: 2896935936.0000 - mae: 31257.2031 - val_loss: 43202764800.0000 - val_mae: 173736.2656\n",
            "Epoch 19/200\n",
            "234/234 [==============================] - 0s 2ms/step - loss: 2119979520.0000 - mae: 29060.8594 - val_loss: 475092844544.0000 - val_mae: 635822.2500\n",
            "Epoch 20/200\n",
            "234/234 [==============================] - 0s 1ms/step - loss: 1443464320.0000 - mae: 28692.7324 - val_loss: 295089012736.0000 - val_mae: 475021.5312\n",
            "Epoch 21/200\n",
            "234/234 [==============================] - 0s 1ms/step - loss: 499412544.0000 - mae: 15205.2637 - val_loss: 231794032640.0000 - val_mae: 412531.2188\n",
            "Epoch 22/200\n",
            "234/234 [==============================] - 0s 1ms/step - loss: 1138121728.0000 - mae: 22066.0293 - val_loss: 248305057792.0000 - val_mae: 424738.5000\n",
            "Epoch 23/200\n",
            "234/234 [==============================] - 0s 1ms/step - loss: 572103168.0000 - mae: 18777.3594 - val_loss: 347872100352.0000 - val_mae: 506441.1250\n",
            "Epoch 24/200\n",
            "234/234 [==============================] - 0s 1ms/step - loss: 1800924672.0000 - mae: 26177.4863 - val_loss: 344252252160.0000 - val_mae: 503372.3438\n",
            "Epoch 25/200\n",
            "234/234 [==============================] - 0s 1ms/step - loss: 551428224.0000 - mae: 17327.8516 - val_loss: 355058843648.0000 - val_mae: 510706.0000\n",
            "Epoch 26/200\n",
            "234/234 [==============================] - 0s 1ms/step - loss: 1021557760.0000 - mae: 19594.0957 - val_loss: 711392624640.0000 - val_mae: 770788.3125\n",
            "Epoch 27/200\n",
            "234/234 [==============================] - 0s 1ms/step - loss: 2942484992.0000 - mae: 36837.1406 - val_loss: 254303125504.0000 - val_mae: 419177.6250\n",
            "Epoch 28/200\n",
            "234/234 [==============================] - 0s 1ms/step - loss: 3013998592.0000 - mae: 30798.8613 - val_loss: 555414519808.0000 - val_mae: 639378.5625\n",
            "Epoch 29/200\n",
            "234/234 [==============================] - 0s 1ms/step - loss: 4864824320.0000 - mae: 35839.8516 - val_loss: 284301590528.0000 - val_mae: 461367.7188\n",
            "Epoch 30/200\n",
            "234/234 [==============================] - 0s 1ms/step - loss: 443071456.0000 - mae: 15152.0068 - val_loss: 406851551232.0000 - val_mae: 562132.5625\n",
            "Epoch 31/200\n",
            "234/234 [==============================] - 0s 1ms/step - loss: 442346400.0000 - mae: 16208.2129 - val_loss: 349182656512.0000 - val_mae: 509239.8750\n",
            "Epoch 32/200\n",
            "234/234 [==============================] - 0s 1ms/step - loss: 2843945728.0000 - mae: 26655.1543 - val_loss: 786260033536.0000 - val_mae: 816821.3750\n",
            "Epoch 33/200\n",
            "234/234 [==============================] - 0s 1ms/step - loss: 1997042816.0000 - mae: 23404.0293 - val_loss: 321609367552.0000 - val_mae: 504743.3438\n",
            "Epoch 34/200\n",
            "234/234 [==============================] - 0s 1ms/step - loss: 644503104.0000 - mae: 18433.7812 - val_loss: 302134460416.0000 - val_mae: 480928.8750\n",
            "Epoch 35/200\n",
            "234/234 [==============================] - 0s 1ms/step - loss: 744060160.0000 - mae: 20134.2207 - val_loss: 304463282176.0000 - val_mae: 479087.2188\n",
            "Epoch 36/200\n",
            "234/234 [==============================] - 0s 1ms/step - loss: 1166338048.0000 - mae: 20561.7188 - val_loss: 684972048384.0000 - val_mae: 767252.3125\n",
            "Epoch 37/200\n",
            "234/234 [==============================] - 0s 1ms/step - loss: 7851853824.0000 - mae: 58270.3516 - val_loss: 89602252800.0000 - val_mae: 247500.1875\n",
            "Epoch 38/200\n",
            "234/234 [==============================] - 0s 2ms/step - loss: 3286904064.0000 - mae: 32840.6055 - val_loss: 311690362880.0000 - val_mae: 489222.9688\n",
            "Epoch 39/200\n",
            "234/234 [==============================] - 0s 1ms/step - loss: 1211143808.0000 - mae: 25120.1426 - val_loss: 266592239616.0000 - val_mae: 445205.0312\n",
            "Epoch 40/200\n",
            "234/234 [==============================] - 0s 1ms/step - loss: 1656310272.0000 - mae: 23384.4785 - val_loss: 793584599040.0000 - val_mae: 838123.2500\n",
            "Epoch 41/200\n",
            "234/234 [==============================] - 0s 1ms/step - loss: 11606456320.0000 - mae: 62314.7891 - val_loss: 20445710336.0000 - val_mae: 119166.5391\n"
          ],
          "name": "stdout"
        },
        {
          "output_type": "execute_result",
          "data": {
            "text/plain": [
              "<tensorflow.python.keras.callbacks.History at 0x7f2f6bbdb748>"
            ]
          },
          "metadata": {
            "tags": []
          },
          "execution_count": 56
        }
      ]
    },
    {
      "cell_type": "code",
      "metadata": {
        "colab": {
          "base_uri": "https://localhost:8080/",
          "height": 542
        },
        "id": "Ila-Fl9k2CGd",
        "outputId": "f976b1b2-80e5-4346-b208-ab7d56f8b608"
      },
      "source": [
        "yp = m.predict(xi)\n",
        "yp = yp.reshape(yp.shape[0],)\n",
        "import plotly.express as px\n",
        "import plotly.graph_objects as go\n",
        "\n",
        "import plotly.express as px\n",
        "\n",
        "y=list(range(usi.shape[0]))\n",
        "\n",
        "fig = px.line()\n",
        "fig.add_scatter(y=yp,mode='lines',name='US Infection Prediction')\n",
        "fig.update_yaxes(type=\"log\")\n",
        "fig.add_scatter(y=yi,name='US Infection True')\n",
        "\n",
        "fig.show()"
      ],
      "execution_count": null,
      "outputs": [
        {
          "output_type": "display_data",
          "data": {
            "text/html": [
              "<html>\n",
              "<head><meta charset=\"utf-8\" /></head>\n",
              "<body>\n",
              "    <div>\n",
              "            <script src=\"https://cdnjs.cloudflare.com/ajax/libs/mathjax/2.7.5/MathJax.js?config=TeX-AMS-MML_SVG\"></script><script type=\"text/javascript\">if (window.MathJax) {MathJax.Hub.Config({SVG: {font: \"STIX-Web\"}});}</script>\n",
              "                <script type=\"text/javascript\">window.PlotlyConfig = {MathJaxConfig: 'local'};</script>\n",
              "        <script src=\"https://cdn.plot.ly/plotly-latest.min.js\"></script>    \n",
              "            <div id=\"f9561c84-6d56-408d-a878-55957215bea9\" class=\"plotly-graph-div\" style=\"height:525px; width:100%;\"></div>\n",
              "            <script type=\"text/javascript\">\n",
              "                \n",
              "                    window.PLOTLYENV=window.PLOTLYENV || {};\n",
              "                    \n",
              "                if (document.getElementById(\"f9561c84-6d56-408d-a878-55957215bea9\")) {\n",
              "                    Plotly.newPlot(\n",
              "                        'f9561c84-6d56-408d-a878-55957215bea9',\n",
              "                        [{\"mode\": \"lines\", \"name\": \"US Infection Prediction\", \"type\": \"scatter\", \"y\": [19124.46484375, 25918.302734375, 34739.7734375, 44700.91796875, 56051.453125, 70266.65625, 86818.96875, 105747.859375, 126048.3828125, 148244.09375, 174232.828125, 202692.75, 234619.859375, 269852.9375, 307794.03125, 346986.78125, 387471.4375, 429463.21875, 472792.90625, 518156.0625, 564313.5, 609897.125, 654392.8125, 697162.1875, 738603.625, 779739.75, 820653.4375, 861652.5, 900710.8125, 937660.1875, 974889.75, 1010603.0625, 1044897.5, 1078995.75, 1112606.0, 1144673.25, 1173930.5, 1200067.125, 1223638.625, 1245108.0, 1265108.625, 1285042.125, 1302738.25, 1317773.625, 1330679.125, 1341685.125, 1351403.125, 1361227.375, 1376482.875, 1391906.875, 1404828.625, 1416102.875, 1426651.0, 1436536.0, 1448603.75, 1461752.875, 1474999.375, 1487830.625, 1499943.25, 1511571.25, 1523537.25, 1536483.875, 1549788.75, 1561898.625, 1572619.25, 1582847.875, 1591992.375, 1600332.25, 1611186.25, 1629592.375, 1648236.25, 1666239.75, 1683529.75, 1700877.625, 1717846.25, 1735150.875, 1754132.875, 1772561.625, 1790650.75, 1808369.5, 1825396.625, 1842740.0, 1861916.625, 1884877.875, 1908418.875, 1931202.375, 1953170.375, 1975596.625, 1998388.5, 2022218.75, 2047388.375, 2073113.5, 2098020.0, 2123104.75, 2148908.75, 2175735.5, 2204006.25, 2234322.0, 2265510.0, 2296609.0, 2328417.75, 2361167.75, 2395870.75, 2432084.0, 2470162.25, 2508649.75, 2547527.0, 2586279.75, 2626920.25, 2669065.5, 2713573.5, 2760818.75, 2809238.25, 2857946.5, 2907540.75, 2958744.5, 3011622.25, 3068123.75, 3126409.25, 3185570.75, 3244010.5, 3302065.0, 3360725.75, 3421042.75, 3483640.5, 3550040.5, 3616985.5, 3680974.0, 3744294.25, 3808238.25, 3874173.0, 3940582.0, 4008149.25, 4074345.0, 4137181.75, 4197489.5, 4257577.5, 4317487.0, 4378406.0, 4440778.0, 4501341.5, 4559324.0, 4618475.0, 4678376.5, 4738486.0, 4799813.0, 4862269.0, 4924114.0, 4982412.0, 5038465.0, 5093323.5, 5147876.0, 5203109.5, 5258637.5, 5314342.5, 5367129.5, 5417338.0, 5467779.5, 5518170.5, 5569395.5, 5621761.0, 5673794.5, 5723344.0, 5770703.0, 5817859.5, 5864159.5, 5912059.5, 5961223.5, 6010327.0, 6056281.5, 6099639.0, 6141474.5, 6183592.0, 6225848.0, 6270158.5, 6315004.5, 6357891.5, 6399104.5, 6440594.5, 6481426.0, 6523079.5, 6566536.5, 6610782.5, 6653462.5, 6696394.0, 6739198.0, 6781615.0, 6824604.0, 6869647.0, 6913943.0, 6957393.5, 6998287.0, 7040606.5, 7082101.0, 7124521.5, 7169152.0, 7214972.5, 7258451.5, 7301543.0, 7344364.5, 7388237.0, 7433710.0, 7481744.5, 7530538.0, 7579377.5, 7626359.5, 7674047.5, 7722303.0, 7773039.0, 7826895.0, 7881603.5, 7934398.0, 7987790.0, 8041321.5, 8095322.5, 8152003.5, 8212170.0, 8273899.0, 8334376.5, 8394232.0, 8456538.0, 8520441.0, 8586947.0, 8657478.0, 8730145.0, 8802116.0, 8874619.0, 8951526.0, 9031047.0, 9114902.0, 9205963.0, 9298845.0, 9392057.0, 9486008.0, 9583274.0, 9683646.0, 9791709.0, 9906645.0, 10027752.0, 10146400.0, 10267109.0, 10390655.0, 10517774.0, 10651481.0, 10793828.0, 10939223.0, 11080754.0, 11224397.0, 11370053.0, 11520689.0, 11666859.0, 11822593.0, 11978756.0, 12132141.0, 12286751.0, 12445222.0, 12609684.0, 12781098.0, 12963282.0, 13147540.0]}, {\"name\": \"US Infection True\", \"type\": \"scatter\", \"y\": [34855.0, 46086.0, 56698.0, 68773.0, 86613.0, 105293.0, 124900.0, 143779.0, 165861.0, 192177.0, 218060.0, 248447.0, 280417.0, 313432.0, 341629.0, 371802.0, 403212.0, 435407.0, 469989.0, 503474.0, 532782.0, 559709.0, 585518.0, 614082.0, 644247.0, 675648.0, 708317.0, 736244.0, 761933.0, 790353.0, 816413.0, 845727.0, 878911.0, 912662.0, 944234.0, 971078.0, 994265.0, 1018926.0, 1046737.0, 1076224.0, 1110464.0, 1138228.0, 1162685.0, 1186067.0, 1210577.0, 1235666.0, 1263402.0, 1290151.0, 1315099.0, 1333970.0, 1353397.0, 1376122.0, 1397085.0, 1424243.0, 1449498.0, 1473514.0, 1491829.0, 1513816.0, 1534871.0, 1557933.0, 1583798.0, 1607109.0, 1628212.0, 1648158.0, 1666505.0, 1685956.0, 1704489.0, 1727357.0, 1751612.0, 1775428.0, 1794465.0, 1811393.0, 1832782.0, 1852788.0, 1874156.0, 1899505.0, 1920910.0, 1938572.0, 1956064.0, 1974425.0, 1995376.0, 2018418.0, 2043332.0, 2068600.0, 2087619.0, 2107075.0, 2130768.0, 2157267.0, 2185134.0, 2216115.0, 2248032.0, 2274000.0, 2304676.0, 2340884.0, 2375310.0, 2415666.0, 2461019.0, 2502378.0, 2542787.0, 2582844.0, 2628824.0, 2680312.0, 2735900.0, 2787741.0, 2833290.0, 2882870.0, 2927032.0, 2987787.0, 3047527.0, 3110094.0, 3177953.0, 3237991.0, 3297076.0, 3355869.0, 3423296.0, 3490931.0, 3568033.0, 3639705.0, 3702175.0, 3762891.0, 3824368.0, 3888607.0, 3960522.0, 4029033.0, 4102241.0, 4167616.0, 4222480.0, 4278427.0, 4344212.0, 4416044.0, 4483643.0, 4551554.0, 4609393.0, 4655662.0, 4700229.0, 4757512.0, 4811945.0, 4871426.0, 4929748.0, 4984197.0, 5030566.0, 5079299.0, 5126209.0, 5183020.0, 5234762.0, 5299526.0, 5346316.0, 5387497.0, 5423981.0, 5469015.0, 5516408.0, 5560495.0, 5608748.0, 5652401.0, 5686911.0, 5723343.0, 5763322.0, 5808842.0, 5853962.0, 5900891.0, 5946305.0, 5981092.0, 6016230.0, 6057907.0, 6098858.0, 6142639.0, 6192768.0, 6235960.0, 6267471.0, 6291016.0, 6317861.0, 6351756.0, 6387822.0, 6435261.0, 6476264.0, 6510569.0, 6544411.0, 6583796.0, 6622256.0, 6667178.0, 6715928.0, 6758440.0, 6796884.0, 6848379.0, 6887861.0, 6926442.0, 6972152.0, 7020206.0, 7064600.0, 7101880.0, 7134164.0, 7176856.0, 7218052.0, 7263409.0, 7317878.0, 7366505.0, 7402597.0, 7441432.0, 7485381.0, 7536022.0, 7594351.0, 7650345.0, 7704419.0, 7750367.0, 7790890.0, 7843769.0, 7903242.0, 7967600.0, 8036049.0, 8093003.0, 8142357.0, 8209226.0, 8270314.0, 8333340.0, 8408675.0, 8489662.0, 8572483.0, 8634285.0, 8700789.0, 8776790.0, 8855474.0, 8945642.0, 9044161.0, 9133098.0, 9208669.0, 9292156.0, 9416709.0, 9519582.0, 9645772.0, 9771480.0, 9899516.0, 10009542.0, 10130752.0, 10268446.0, 10412095.0, 10573242.0, 10750810.0, 10917560.0, 11053501.0, 11211321.0, 11371895.0, 11542408.0, 11730441.0, 11925959.0, 12104056.0, 12246863.0, 12418378.0, 12591366.0, 12772653.0, 12883307.0, 13088821.0, 13244701.0, 13383370.0, 13541221.0, 13721858.0, 13921913.0, 14139577.0, 14367462.0, 14581337.0, 14757000.0]}],\n",
              "                        {\"legend\": {\"tracegroupgap\": 0}, \"margin\": {\"t\": 60}, \"template\": {\"data\": {\"bar\": [{\"error_x\": {\"color\": \"#2a3f5f\"}, \"error_y\": {\"color\": \"#2a3f5f\"}, \"marker\": {\"line\": {\"color\": \"#E5ECF6\", \"width\": 0.5}}, \"type\": \"bar\"}], \"barpolar\": [{\"marker\": {\"line\": {\"color\": \"#E5ECF6\", \"width\": 0.5}}, \"type\": \"barpolar\"}], \"carpet\": [{\"aaxis\": {\"endlinecolor\": \"#2a3f5f\", \"gridcolor\": \"white\", \"linecolor\": \"white\", \"minorgridcolor\": \"white\", \"startlinecolor\": \"#2a3f5f\"}, \"baxis\": {\"endlinecolor\": \"#2a3f5f\", \"gridcolor\": \"white\", \"linecolor\": \"white\", \"minorgridcolor\": \"white\", \"startlinecolor\": \"#2a3f5f\"}, \"type\": \"carpet\"}], \"choropleth\": [{\"colorbar\": {\"outlinewidth\": 0, \"ticks\": \"\"}, \"type\": \"choropleth\"}], \"contour\": [{\"colorbar\": {\"outlinewidth\": 0, \"ticks\": \"\"}, \"colorscale\": [[0.0, \"#0d0887\"], [0.1111111111111111, \"#46039f\"], [0.2222222222222222, \"#7201a8\"], [0.3333333333333333, \"#9c179e\"], [0.4444444444444444, \"#bd3786\"], [0.5555555555555556, \"#d8576b\"], [0.6666666666666666, \"#ed7953\"], [0.7777777777777778, \"#fb9f3a\"], [0.8888888888888888, \"#fdca26\"], [1.0, \"#f0f921\"]], \"type\": \"contour\"}], \"contourcarpet\": [{\"colorbar\": {\"outlinewidth\": 0, \"ticks\": \"\"}, \"type\": \"contourcarpet\"}], \"heatmap\": [{\"colorbar\": {\"outlinewidth\": 0, \"ticks\": \"\"}, \"colorscale\": [[0.0, \"#0d0887\"], [0.1111111111111111, \"#46039f\"], [0.2222222222222222, \"#7201a8\"], [0.3333333333333333, \"#9c179e\"], [0.4444444444444444, \"#bd3786\"], [0.5555555555555556, \"#d8576b\"], [0.6666666666666666, \"#ed7953\"], [0.7777777777777778, \"#fb9f3a\"], [0.8888888888888888, \"#fdca26\"], [1.0, \"#f0f921\"]], \"type\": \"heatmap\"}], \"heatmapgl\": [{\"colorbar\": {\"outlinewidth\": 0, \"ticks\": \"\"}, \"colorscale\": [[0.0, \"#0d0887\"], [0.1111111111111111, \"#46039f\"], [0.2222222222222222, \"#7201a8\"], [0.3333333333333333, \"#9c179e\"], [0.4444444444444444, \"#bd3786\"], [0.5555555555555556, \"#d8576b\"], [0.6666666666666666, \"#ed7953\"], [0.7777777777777778, \"#fb9f3a\"], [0.8888888888888888, \"#fdca26\"], [1.0, \"#f0f921\"]], \"type\": \"heatmapgl\"}], \"histogram\": [{\"marker\": {\"colorbar\": {\"outlinewidth\": 0, \"ticks\": \"\"}}, \"type\": \"histogram\"}], \"histogram2d\": [{\"colorbar\": {\"outlinewidth\": 0, \"ticks\": \"\"}, \"colorscale\": [[0.0, \"#0d0887\"], [0.1111111111111111, \"#46039f\"], [0.2222222222222222, \"#7201a8\"], [0.3333333333333333, \"#9c179e\"], [0.4444444444444444, \"#bd3786\"], [0.5555555555555556, \"#d8576b\"], [0.6666666666666666, \"#ed7953\"], [0.7777777777777778, \"#fb9f3a\"], [0.8888888888888888, \"#fdca26\"], [1.0, \"#f0f921\"]], \"type\": \"histogram2d\"}], \"histogram2dcontour\": [{\"colorbar\": {\"outlinewidth\": 0, \"ticks\": \"\"}, \"colorscale\": [[0.0, \"#0d0887\"], [0.1111111111111111, \"#46039f\"], [0.2222222222222222, \"#7201a8\"], [0.3333333333333333, \"#9c179e\"], [0.4444444444444444, \"#bd3786\"], [0.5555555555555556, \"#d8576b\"], [0.6666666666666666, \"#ed7953\"], [0.7777777777777778, \"#fb9f3a\"], [0.8888888888888888, \"#fdca26\"], [1.0, \"#f0f921\"]], \"type\": \"histogram2dcontour\"}], \"mesh3d\": [{\"colorbar\": {\"outlinewidth\": 0, \"ticks\": \"\"}, \"type\": \"mesh3d\"}], \"parcoords\": [{\"line\": {\"colorbar\": {\"outlinewidth\": 0, \"ticks\": \"\"}}, \"type\": \"parcoords\"}], \"pie\": [{\"automargin\": true, \"type\": \"pie\"}], \"scatter\": [{\"marker\": {\"colorbar\": {\"outlinewidth\": 0, \"ticks\": \"\"}}, \"type\": \"scatter\"}], \"scatter3d\": [{\"line\": {\"colorbar\": {\"outlinewidth\": 0, \"ticks\": \"\"}}, \"marker\": {\"colorbar\": {\"outlinewidth\": 0, \"ticks\": \"\"}}, \"type\": \"scatter3d\"}], \"scattercarpet\": [{\"marker\": {\"colorbar\": {\"outlinewidth\": 0, \"ticks\": \"\"}}, \"type\": \"scattercarpet\"}], \"scattergeo\": [{\"marker\": {\"colorbar\": {\"outlinewidth\": 0, \"ticks\": \"\"}}, \"type\": \"scattergeo\"}], \"scattergl\": [{\"marker\": {\"colorbar\": {\"outlinewidth\": 0, \"ticks\": \"\"}}, \"type\": \"scattergl\"}], \"scattermapbox\": [{\"marker\": {\"colorbar\": {\"outlinewidth\": 0, \"ticks\": \"\"}}, \"type\": \"scattermapbox\"}], \"scatterpolar\": [{\"marker\": {\"colorbar\": {\"outlinewidth\": 0, \"ticks\": \"\"}}, \"type\": \"scatterpolar\"}], \"scatterpolargl\": [{\"marker\": {\"colorbar\": {\"outlinewidth\": 0, \"ticks\": \"\"}}, \"type\": \"scatterpolargl\"}], \"scatterternary\": [{\"marker\": {\"colorbar\": {\"outlinewidth\": 0, \"ticks\": \"\"}}, \"type\": \"scatterternary\"}], \"surface\": [{\"colorbar\": {\"outlinewidth\": 0, \"ticks\": \"\"}, \"colorscale\": [[0.0, \"#0d0887\"], [0.1111111111111111, \"#46039f\"], [0.2222222222222222, \"#7201a8\"], [0.3333333333333333, \"#9c179e\"], [0.4444444444444444, \"#bd3786\"], [0.5555555555555556, \"#d8576b\"], [0.6666666666666666, \"#ed7953\"], [0.7777777777777778, \"#fb9f3a\"], [0.8888888888888888, \"#fdca26\"], [1.0, \"#f0f921\"]], \"type\": \"surface\"}], \"table\": [{\"cells\": {\"fill\": {\"color\": \"#EBF0F8\"}, \"line\": {\"color\": \"white\"}}, \"header\": {\"fill\": {\"color\": \"#C8D4E3\"}, \"line\": {\"color\": \"white\"}}, \"type\": \"table\"}]}, \"layout\": {\"annotationdefaults\": {\"arrowcolor\": \"#2a3f5f\", \"arrowhead\": 0, \"arrowwidth\": 1}, \"coloraxis\": {\"colorbar\": {\"outlinewidth\": 0, \"ticks\": \"\"}}, \"colorscale\": {\"diverging\": [[0, \"#8e0152\"], [0.1, \"#c51b7d\"], [0.2, \"#de77ae\"], [0.3, \"#f1b6da\"], [0.4, \"#fde0ef\"], [0.5, \"#f7f7f7\"], [0.6, \"#e6f5d0\"], [0.7, \"#b8e186\"], [0.8, \"#7fbc41\"], [0.9, \"#4d9221\"], [1, \"#276419\"]], \"sequential\": [[0.0, \"#0d0887\"], [0.1111111111111111, \"#46039f\"], [0.2222222222222222, \"#7201a8\"], [0.3333333333333333, \"#9c179e\"], [0.4444444444444444, \"#bd3786\"], [0.5555555555555556, \"#d8576b\"], [0.6666666666666666, \"#ed7953\"], [0.7777777777777778, \"#fb9f3a\"], [0.8888888888888888, \"#fdca26\"], [1.0, \"#f0f921\"]], \"sequentialminus\": [[0.0, \"#0d0887\"], [0.1111111111111111, \"#46039f\"], [0.2222222222222222, \"#7201a8\"], [0.3333333333333333, \"#9c179e\"], [0.4444444444444444, \"#bd3786\"], [0.5555555555555556, \"#d8576b\"], [0.6666666666666666, \"#ed7953\"], [0.7777777777777778, \"#fb9f3a\"], [0.8888888888888888, \"#fdca26\"], [1.0, \"#f0f921\"]]}, \"colorway\": [\"#636efa\", \"#EF553B\", \"#00cc96\", \"#ab63fa\", \"#FFA15A\", \"#19d3f3\", \"#FF6692\", \"#B6E880\", \"#FF97FF\", \"#FECB52\"], \"font\": {\"color\": \"#2a3f5f\"}, \"geo\": {\"bgcolor\": \"white\", \"lakecolor\": \"white\", \"landcolor\": \"#E5ECF6\", \"showlakes\": true, \"showland\": true, \"subunitcolor\": \"white\"}, \"hoverlabel\": {\"align\": \"left\"}, \"hovermode\": \"closest\", \"mapbox\": {\"style\": \"light\"}, \"paper_bgcolor\": \"white\", \"plot_bgcolor\": \"#E5ECF6\", \"polar\": {\"angularaxis\": {\"gridcolor\": \"white\", \"linecolor\": \"white\", \"ticks\": \"\"}, \"bgcolor\": \"#E5ECF6\", \"radialaxis\": {\"gridcolor\": \"white\", \"linecolor\": \"white\", \"ticks\": \"\"}}, \"scene\": {\"xaxis\": {\"backgroundcolor\": \"#E5ECF6\", \"gridcolor\": \"white\", \"gridwidth\": 2, \"linecolor\": \"white\", \"showbackground\": true, \"ticks\": \"\", \"zerolinecolor\": \"white\"}, \"yaxis\": {\"backgroundcolor\": \"#E5ECF6\", \"gridcolor\": \"white\", \"gridwidth\": 2, \"linecolor\": \"white\", \"showbackground\": true, \"ticks\": \"\", \"zerolinecolor\": \"white\"}, \"zaxis\": {\"backgroundcolor\": \"#E5ECF6\", \"gridcolor\": \"white\", \"gridwidth\": 2, \"linecolor\": \"white\", \"showbackground\": true, \"ticks\": \"\", \"zerolinecolor\": \"white\"}}, \"shapedefaults\": {\"line\": {\"color\": \"#2a3f5f\"}}, \"ternary\": {\"aaxis\": {\"gridcolor\": \"white\", \"linecolor\": \"white\", \"ticks\": \"\"}, \"baxis\": {\"gridcolor\": \"white\", \"linecolor\": \"white\", \"ticks\": \"\"}, \"bgcolor\": \"#E5ECF6\", \"caxis\": {\"gridcolor\": \"white\", \"linecolor\": \"white\", \"ticks\": \"\"}}, \"title\": {\"x\": 0.05}, \"xaxis\": {\"automargin\": true, \"gridcolor\": \"white\", \"linecolor\": \"white\", \"ticks\": \"\", \"title\": {\"standoff\": 15}, \"zerolinecolor\": \"white\", \"zerolinewidth\": 2}, \"yaxis\": {\"automargin\": true, \"gridcolor\": \"white\", \"linecolor\": \"white\", \"ticks\": \"\", \"title\": {\"standoff\": 15}, \"zerolinecolor\": \"white\", \"zerolinewidth\": 2}}}, \"xaxis\": {\"anchor\": \"y\", \"domain\": [0.0, 1.0]}, \"yaxis\": {\"anchor\": \"x\", \"domain\": [0.0, 1.0], \"type\": \"log\"}},\n",
              "                        {\"responsive\": true}\n",
              "                    ).then(function(){\n",
              "                            \n",
              "var gd = document.getElementById('f9561c84-6d56-408d-a878-55957215bea9');\n",
              "var x = new MutationObserver(function (mutations, observer) {{\n",
              "        var display = window.getComputedStyle(gd).display;\n",
              "        if (!display || display === 'none') {{\n",
              "            console.log([gd, 'removed!']);\n",
              "            Plotly.purge(gd);\n",
              "            observer.disconnect();\n",
              "        }}\n",
              "}});\n",
              "\n",
              "// Listen for the removal of the full notebook cells\n",
              "var notebookContainer = gd.closest('#notebook-container');\n",
              "if (notebookContainer) {{\n",
              "    x.observe(notebookContainer, {childList: true});\n",
              "}}\n",
              "\n",
              "// Listen for the clearing of the current output cell\n",
              "var outputEl = gd.closest('.output');\n",
              "if (outputEl) {{\n",
              "    x.observe(outputEl, {childList: true});\n",
              "}}\n",
              "\n",
              "                        })\n",
              "                };\n",
              "                \n",
              "            </script>\n",
              "        </div>\n",
              "</body>\n",
              "</html>"
            ]
          },
          "metadata": {
            "tags": []
          }
        }
      ]
    },
    {
      "cell_type": "code",
      "metadata": {
        "colab": {
          "base_uri": "https://localhost:8080/"
        },
        "id": "RDioOJyC5nIV",
        "outputId": "57e23143-bfb5-4bce-8d34-da006cd99d3c"
      },
      "source": [
        "from tensorflow.keras.layers import *\n",
        "from tensorflow.keras.models import *\n",
        "from tensorflow.keras.callbacks import *\n",
        "\n",
        "m = Sequential()\n",
        "\n",
        "m.add(Dense(1000, activation='relu'))\n",
        "m.add(Dense(100, activation='relu'))\n",
        "m.add(Dense(10, activation='relu'))\n",
        "m.add(Dense(1,activation='linear'))\n",
        "\n",
        "m.compile(optimizer='adam',loss='mse', metrics='mae')\n",
        "\n",
        "def fit_model(model):\n",
        "    early_stop = EarlyStopping(monitor = 'loss',\n",
        "                                               patience = 10)\n",
        "    history = model.fit(xd, yd, epochs = 200,  \n",
        "                        validation_split = 0.1, batch_size = 1, \n",
        "                        shuffle = False, callbacks = [early_stop])\n",
        "    return history\n",
        "\n",
        "fit_model(m)"
      ],
      "execution_count": null,
      "outputs": [
        {
          "output_type": "stream",
          "text": [
            "Epoch 1/200\n",
            "234/234 [==============================] - 0s 2ms/step - loss: 16837080.0000 - mae: 3267.6533 - val_loss: 7791086.0000 - val_mae: 2240.2339\n",
            "Epoch 2/200\n",
            "234/234 [==============================] - 0s 1ms/step - loss: 8306272.5000 - mae: 1903.4401 - val_loss: 31041106.0000 - val_mae: 4572.3652\n",
            "Epoch 3/200\n",
            "234/234 [==============================] - 0s 1ms/step - loss: 6056837.0000 - mae: 1764.2311 - val_loss: 31575026.0000 - val_mae: 4722.4238\n",
            "Epoch 4/200\n",
            "234/234 [==============================] - 0s 1ms/step - loss: 7498625.0000 - mae: 1676.3292 - val_loss: 106633008.0000 - val_mae: 9961.8496\n",
            "Epoch 5/200\n",
            "234/234 [==============================] - 0s 1ms/step - loss: 4000173.2500 - mae: 1524.6755 - val_loss: 261443728.0000 - val_mae: 15617.3320\n",
            "Epoch 6/200\n",
            "234/234 [==============================] - 0s 1ms/step - loss: 13345139.0000 - mae: 2584.8389 - val_loss: 392078528.0000 - val_mae: 19556.6914\n",
            "Epoch 7/200\n",
            "234/234 [==============================] - 0s 1ms/step - loss: 14463857.0000 - mae: 3081.0708 - val_loss: 1518486.8750 - val_mae: 1001.0481\n",
            "Epoch 8/200\n",
            "234/234 [==============================] - 0s 1ms/step - loss: 1602271.0000 - mae: 981.7739 - val_loss: 2348418.2500 - val_mae: 1207.1833\n",
            "Epoch 9/200\n",
            "234/234 [==============================] - 0s 1ms/step - loss: 1577527.1250 - mae: 997.8428 - val_loss: 3387314.7500 - val_mae: 1399.0985\n",
            "Epoch 10/200\n",
            "234/234 [==============================] - 0s 1ms/step - loss: 2034385.3750 - mae: 1050.3344 - val_loss: 183224304.0000 - val_mae: 13365.7607\n",
            "Epoch 11/200\n",
            "234/234 [==============================] - 0s 1ms/step - loss: 3514775.2500 - mae: 1415.5948 - val_loss: 13057780.0000 - val_mae: 2961.3286\n",
            "Epoch 12/200\n",
            "234/234 [==============================] - 0s 1ms/step - loss: 1255652.5000 - mae: 906.6956 - val_loss: 13743424.0000 - val_mae: 3000.9561\n",
            "Epoch 13/200\n",
            "234/234 [==============================] - 0s 1ms/step - loss: 1530023.8750 - mae: 1008.4678 - val_loss: 12484256.0000 - val_mae: 2772.8643\n",
            "Epoch 14/200\n",
            "234/234 [==============================] - 0s 2ms/step - loss: 1764280.1250 - mae: 1051.9081 - val_loss: 13887007.0000 - val_mae: 2946.0366\n",
            "Epoch 15/200\n",
            "234/234 [==============================] - 0s 1ms/step - loss: 1331315.7500 - mae: 922.9126 - val_loss: 6782055.0000 - val_mae: 2053.8462\n",
            "Epoch 16/200\n",
            "234/234 [==============================] - 0s 1ms/step - loss: 966393.6875 - mae: 785.2925 - val_loss: 16252507.0000 - val_mae: 3156.8059\n",
            "Epoch 17/200\n",
            "234/234 [==============================] - 0s 1ms/step - loss: 990979.1875 - mae: 797.5527 - val_loss: 14426613.0000 - val_mae: 2952.7537\n",
            "Epoch 18/200\n",
            "234/234 [==============================] - 0s 1ms/step - loss: 1647476.1250 - mae: 994.7575 - val_loss: 15046929.0000 - val_mae: 3016.5552\n",
            "Epoch 19/200\n",
            "234/234 [==============================] - 0s 1ms/step - loss: 1562153.0000 - mae: 981.2275 - val_loss: 14890432.0000 - val_mae: 2999.6094\n",
            "Epoch 20/200\n",
            "234/234 [==============================] - 0s 1ms/step - loss: 2676907.2500 - mae: 1220.8036 - val_loss: 14656704.0000 - val_mae: 2976.1641\n",
            "Epoch 21/200\n",
            "234/234 [==============================] - 0s 1ms/step - loss: 2348258.0000 - mae: 1198.1808 - val_loss: 8145954.5000 - val_mae: 2260.5222\n",
            "Epoch 22/200\n",
            "234/234 [==============================] - 0s 2ms/step - loss: 1441358.7500 - mae: 970.6248 - val_loss: 17999010.0000 - val_mae: 3326.4849\n",
            "Epoch 23/200\n",
            "234/234 [==============================] - 0s 1ms/step - loss: 1785976.1250 - mae: 1034.7048 - val_loss: 15466767.0000 - val_mae: 3056.1802\n",
            "Epoch 24/200\n",
            "234/234 [==============================] - 0s 1ms/step - loss: 2370492.7500 - mae: 1177.0510 - val_loss: 22634536.0000 - val_mae: 3917.8035\n",
            "Epoch 25/200\n",
            "234/234 [==============================] - 0s 1ms/step - loss: 1733876.8750 - mae: 1022.0033 - val_loss: 22013376.0000 - val_mae: 3864.8792\n",
            "Epoch 26/200\n",
            "234/234 [==============================] - 0s 1ms/step - loss: 1193670.6250 - mae: 852.2385 - val_loss: 20904492.0000 - val_mae: 3712.7729\n"
          ],
          "name": "stdout"
        },
        {
          "output_type": "execute_result",
          "data": {
            "text/plain": [
              "<tensorflow.python.keras.callbacks.History at 0x7f2f63bbb5c0>"
            ]
          },
          "metadata": {
            "tags": []
          },
          "execution_count": 59
        }
      ]
    },
    {
      "cell_type": "code",
      "metadata": {
        "colab": {
          "base_uri": "https://localhost:8080/",
          "height": 542
        },
        "id": "UQfrc0yy517R",
        "outputId": "bb1e773d-a721-4bdd-a2c9-55b6602ba9db"
      },
      "source": [
        "yp = m.predict(xd)\n",
        "yp = yp.reshape(yp.shape[0],)\n",
        "import plotly.express as px\n",
        "import plotly.graph_objects as go\n",
        "\n",
        "import plotly.express as px\n",
        "\n",
        "y=list(range(usi.shape[0]))\n",
        "\n",
        "fig = px.line()\n",
        "fig.add_scatter(y=yp,mode='lines',name='US Death Prediction')\n",
        "fig.update_yaxes(type=\"log\")\n",
        "fig.add_scatter(y=yd,name='US Death True')\n",
        "\n",
        "fig.show()"
      ],
      "execution_count": null,
      "outputs": [
        {
          "output_type": "display_data",
          "data": {
            "text/html": [
              "<html>\n",
              "<head><meta charset=\"utf-8\" /></head>\n",
              "<body>\n",
              "    <div>\n",
              "            <script src=\"https://cdnjs.cloudflare.com/ajax/libs/mathjax/2.7.5/MathJax.js?config=TeX-AMS-MML_SVG\"></script><script type=\"text/javascript\">if (window.MathJax) {MathJax.Hub.Config({SVG: {font: \"STIX-Web\"}});}</script>\n",
              "                <script type=\"text/javascript\">window.PlotlyConfig = {MathJaxConfig: 'local'};</script>\n",
              "        <script src=\"https://cdn.plot.ly/plotly-latest.min.js\"></script>    \n",
              "            <div id=\"09686b9a-eb2e-43bd-b507-b5634e63dfdb\" class=\"plotly-graph-div\" style=\"height:525px; width:100%;\"></div>\n",
              "            <script type=\"text/javascript\">\n",
              "                \n",
              "                    window.PLOTLYENV=window.PLOTLYENV || {};\n",
              "                    \n",
              "                if (document.getElementById(\"09686b9a-eb2e-43bd-b507-b5634e63dfdb\")) {\n",
              "                    Plotly.newPlot(\n",
              "                        '09686b9a-eb2e-43bd-b507-b5634e63dfdb',\n",
              "                        [{\"mode\": \"lines\", \"name\": \"US Death Prediction\", \"type\": \"scatter\", \"y\": [350.4351501464844, 450.25921630859375, 587.25146484375, 768.7977905273438, 1011.5820922851562, 1328.796142578125, 1732.12744140625, 2240.712646484375, 2811.35302734375, 3468.61865234375, 4314.62890625, 5331.20263671875, 6580.0615234375, 7967.0771484375, 9494.1767578125, 11204.5458984375, 13083.90625, 15347.7236328125, 17802.48046875, 20436.037109375, 23225.279296875, 26077.974609375, 28944.384765625, 31844.033203125, 34895.85546875, 38116.08203125, 41349.46875, 44546.9765625, 47653.1484375, 50654.234375, 53673.51171875, 56735.53515625, 59798.33984375, 62838.21484375, 65806.171875, 68541.1328125, 71065.9296875, 73369.6171875, 75703.40625, 78030.1171875, 80287.390625, 82422.1484375, 84338.34375, 85888.4765625, 87168.109375, 88496.078125, 89795.46875, 90940.46875, 91935.40625, 92734.9765625, 93166.2734375, 93404.546875, 93660.6015625, 94345.5546875, 95141.0390625, 95906.3671875, 96521.1640625, 96880.1796875, 97327.140625, 97979.6015625, 98689.921875, 99386.9296875, 100021.09375, 100607.8203125, 100942.3125, 101177.671875, 101426.7734375, 101734.2421875, 101959.625, 102221.6875, 102465.796875, 102924.3046875, 103654.3984375, 104468.34375, 105281.5234375, 106100.828125, 106955.75, 107728.4921875, 108333.6328125, 108865.1953125, 109487.515625, 110170.484375, 111220.2421875, 112277.2265625, 113321.2109375, 114225.8671875, 115055.3046875, 115926.625, 116829.671875, 117745.09375, 118626.1015625, 119520.265625, 120270.8359375, 120969.609375, 121723.7421875, 122534.5390625, 123298.21875, 124059.6953125, 124810.40625, 125479.4609375, 126131.5546875, 126808.640625, 127530.015625, 128229.703125, 128971.328125, 129640.21875, 130215.6796875, 130740.2578125, 131374.890625, 132070.859375, 132777.140625, 133540.546875, 134256.859375, 134930.515625, 135507.375, 136175.078125, 136907.578125, 137679.546875, 138443.484375, 139221.125, 139881.28125, 140531.65625, 141242.875, 142028.5625, 142870.34375, 143758.234375, 144645.5, 145407.609375, 146203.484375, 147066.34375, 148041.90625, 149020.0, 150058.0, 151073.203125, 151964.78125, 152789.75, 153719.921875, 154743.90625, 155785.984375, 156901.296875, 158002.78125, 158985.875, 159864.234375, 160808.90625, 161852.78125, 162935.375, 164071.734375, 165201.015625, 166204.59375, 167126.28125, 168147.140625, 169202.25, 170325.0625, 171468.5, 172639.5625, 173646.40625, 174567.203125, 175562.234375, 176611.546875, 177690.21875, 178806.203125, 179899.578125, 180847.796875, 181710.515625, 182651.921875, 183650.953125, 184685.78125, 185727.859375, 186791.71875, 187678.359375, 188493.96875, 189305.21875, 190223.1875, 191138.0625, 192169.90625, 193179.15625, 194046.03125, 194831.453125, 195690.71875, 196595.703125, 197489.8125, 198472.65625, 199434.5, 200252.625, 200946.953125, 201739.734375, 202611.296875, 203495.03125, 204416.328125, 205317.171875, 206106.171875, 206767.171875, 207533.21875, 208344.40625, 209218.203125, 210082.6875, 210983.1875, 211697.5625, 212383.875, 213099.5, 213905.109375, 214711.109375, 215574.8125, 216427.984375, 217189.0, 217870.296875, 218597.015625, 219379.109375, 220166.046875, 221030.546875, 221897.078125, 222635.203125, 223290.515625, 223996.890625, 224782.171875, 225607.03125, 226483.359375, 227333.109375, 228107.734375, 228778.171875, 229548.046875, 230357.90625, 231237.8125, 232124.109375, 233035.0625, 233789.078125, 234503.0625, 235340.34375, 236252.625, 237167.859375, 238172.078125, 239167.046875, 240048.03125, 240859.75, 241770.078125, 242759.765625, 243775.3125, 244807.640625, 245906.046875, 246869.421875, 247769.171875, 248795.859375, 249942.515625, 251179.125, 252525.984375, 253855.953125, 255057.4375, 256184.765625, 257433.59375, 258831.578125, 260202.25, 261629.875, 263011.9375, 264249.0, 265433.65625, 266834.6875, 268440.6875, 270197.03125, 272064.90625, 273939.875]}, {\"name\": \"US Death True\", \"type\": \"scatter\", \"y\": [574.0, 762.0, 1003.0, 1329.0, 1741.0, 2259.0, 2892.0, 3484.0, 4180.0, 5272.0, 6452.0, 7955.0, 9348.0, 10889.0, 12457.0, 14233.0, 16803.0, 18957.0, 21176.0, 23403.0, 25527.0, 27342.0, 29280.0, 31734.0, 34337.0, 36506.0, 38599.0, 40568.0, 42499.0, 44679.0, 47221.0, 49659.0, 52125.0, 54285.0, 55988.0, 57322.0, 58787.0, 61028.0, 63555.0, 65971.0, 67848.0, 69535.0, 70638.0, 71956.0, 74255.0, 76599.0, 78523.0, 80275.0, 81817.0, 82717.0, 83719.0, 85333.0, 87082.0, 88856.0, 90520.0, 91792.0, 92547.0, 93714.0, 95240.0, 96758.0, 97969.0, 99214.0, 100348.0, 100964.0, 101521.0, 102185.0, 103693.0, 104876.0, 106031.0, 106985.0, 107674.0, 108451.0, 109500.0, 110494.0, 111499.0, 112405.0, 113102.0, 113543.0, 114040.0, 114970.0, 115869.0, 116723.0, 117543.0, 118316.0, 118629.0, 119012.0, 119833.0, 120564.0, 121272.0, 121934.0, 122540.0, 122833.0, 123217.0, 124059.0, 124815.0, 125360.0, 125981.0, 126483.0, 126761.0, 127139.0, 127787.0, 128479.0, 129199.0, 129858.0, 130127.0, 130416.0, 130777.0, 131984.0, 132847.0, 133845.0, 134666.0, 135359.0, 135820.0, 136188.0, 137108.0, 138080.0, 139030.0, 139963.0, 140825.0, 141278.0, 141802.0, 142903.0, 144123.0, 145215.0, 146345.0, 147233.0, 147716.0, 148835.0, 150204.0, 151635.0, 152851.0, 154093.0, 155202.0, 155613.0, 156152.0, 157526.0, 158902.0, 160150.0, 161388.0, 162470.0, 162986.0, 163513.0, 164581.0, 166087.0, 167151.0, 168494.0, 169524.0, 170099.0, 170545.0, 171876.0, 173207.0, 174285.0, 175397.0, 176381.0, 176836.0, 177279.0, 178509.0, 179737.0, 180842.0, 181813.0, 182651.0, 183089.0, 183684.0, 184749.0, 185801.0, 186868.0, 187838.0, 188610.0, 189020.0, 189296.0, 189741.0, 190923.0, 191831.0, 193043.0, 193755.0, 194141.0, 194563.0, 195851.0, 196839.0, 197705.0, 198634.0, 199352.0, 199593.0, 200015.0, 201038.0, 202140.0, 203057.0, 203996.0, 204745.0, 205027.0, 205352.0, 206257.0, 207199.0, 208050.0, 208979.0, 209659.0, 210008.0, 210469.0, 211170.0, 212100.0, 213065.0, 214029.0, 214656.0, 215080.0, 215415.0, 216212.0, 217213.0, 218032.0, 218936.0, 219681.0, 220112.0, 220576.0, 221511.0, 222666.0, 223515.0, 224466.0, 225404.0, 225782.0, 226272.0, 227240.0, 228248.0, 229214.0, 230242.0, 231127.0, 231535.0, 232067.0, 233638.0, 234728.0, 235878.0, 237073.0, 238082.0, 238555.0, 239242.0, 240623.0, 242036.0, 243245.0, 244404.0, 245664.0, 246292.0, 247030.0, 248724.0, 250621.0, 252609.0, 254517.0, 255947.0, 256869.0, 257782.0, 259929.0, 262222.0, 263456.0, 264858.0, 266047.0, 266873.0, 268045.0, 270642.0, 273446.0, 276325.0, 278932.0, 281186.0, 282299.0]}],\n",
              "                        {\"legend\": {\"tracegroupgap\": 0}, \"margin\": {\"t\": 60}, \"template\": {\"data\": {\"bar\": [{\"error_x\": {\"color\": \"#2a3f5f\"}, \"error_y\": {\"color\": \"#2a3f5f\"}, \"marker\": {\"line\": {\"color\": \"#E5ECF6\", \"width\": 0.5}}, \"type\": \"bar\"}], \"barpolar\": [{\"marker\": {\"line\": {\"color\": \"#E5ECF6\", \"width\": 0.5}}, \"type\": \"barpolar\"}], \"carpet\": [{\"aaxis\": {\"endlinecolor\": \"#2a3f5f\", \"gridcolor\": \"white\", \"linecolor\": \"white\", \"minorgridcolor\": \"white\", \"startlinecolor\": \"#2a3f5f\"}, \"baxis\": {\"endlinecolor\": \"#2a3f5f\", \"gridcolor\": \"white\", \"linecolor\": \"white\", \"minorgridcolor\": \"white\", \"startlinecolor\": \"#2a3f5f\"}, \"type\": \"carpet\"}], \"choropleth\": [{\"colorbar\": {\"outlinewidth\": 0, \"ticks\": \"\"}, \"type\": \"choropleth\"}], \"contour\": [{\"colorbar\": {\"outlinewidth\": 0, \"ticks\": \"\"}, \"colorscale\": [[0.0, \"#0d0887\"], [0.1111111111111111, \"#46039f\"], [0.2222222222222222, \"#7201a8\"], [0.3333333333333333, \"#9c179e\"], [0.4444444444444444, \"#bd3786\"], [0.5555555555555556, \"#d8576b\"], [0.6666666666666666, \"#ed7953\"], [0.7777777777777778, \"#fb9f3a\"], [0.8888888888888888, \"#fdca26\"], [1.0, \"#f0f921\"]], \"type\": \"contour\"}], \"contourcarpet\": [{\"colorbar\": {\"outlinewidth\": 0, \"ticks\": \"\"}, \"type\": \"contourcarpet\"}], \"heatmap\": [{\"colorbar\": {\"outlinewidth\": 0, \"ticks\": \"\"}, \"colorscale\": [[0.0, \"#0d0887\"], [0.1111111111111111, \"#46039f\"], [0.2222222222222222, \"#7201a8\"], [0.3333333333333333, \"#9c179e\"], [0.4444444444444444, \"#bd3786\"], [0.5555555555555556, \"#d8576b\"], [0.6666666666666666, \"#ed7953\"], [0.7777777777777778, \"#fb9f3a\"], [0.8888888888888888, \"#fdca26\"], [1.0, \"#f0f921\"]], \"type\": \"heatmap\"}], \"heatmapgl\": [{\"colorbar\": {\"outlinewidth\": 0, \"ticks\": \"\"}, \"colorscale\": [[0.0, \"#0d0887\"], [0.1111111111111111, \"#46039f\"], [0.2222222222222222, \"#7201a8\"], [0.3333333333333333, \"#9c179e\"], [0.4444444444444444, \"#bd3786\"], [0.5555555555555556, \"#d8576b\"], [0.6666666666666666, \"#ed7953\"], [0.7777777777777778, \"#fb9f3a\"], [0.8888888888888888, \"#fdca26\"], [1.0, \"#f0f921\"]], \"type\": \"heatmapgl\"}], \"histogram\": [{\"marker\": {\"colorbar\": {\"outlinewidth\": 0, \"ticks\": \"\"}}, \"type\": \"histogram\"}], \"histogram2d\": [{\"colorbar\": {\"outlinewidth\": 0, \"ticks\": \"\"}, \"colorscale\": [[0.0, \"#0d0887\"], [0.1111111111111111, \"#46039f\"], [0.2222222222222222, \"#7201a8\"], [0.3333333333333333, \"#9c179e\"], [0.4444444444444444, \"#bd3786\"], [0.5555555555555556, \"#d8576b\"], [0.6666666666666666, \"#ed7953\"], [0.7777777777777778, \"#fb9f3a\"], [0.8888888888888888, \"#fdca26\"], [1.0, \"#f0f921\"]], \"type\": \"histogram2d\"}], \"histogram2dcontour\": [{\"colorbar\": {\"outlinewidth\": 0, \"ticks\": \"\"}, \"colorscale\": [[0.0, \"#0d0887\"], [0.1111111111111111, \"#46039f\"], [0.2222222222222222, \"#7201a8\"], [0.3333333333333333, \"#9c179e\"], [0.4444444444444444, \"#bd3786\"], [0.5555555555555556, \"#d8576b\"], [0.6666666666666666, \"#ed7953\"], [0.7777777777777778, \"#fb9f3a\"], [0.8888888888888888, \"#fdca26\"], [1.0, \"#f0f921\"]], \"type\": \"histogram2dcontour\"}], \"mesh3d\": [{\"colorbar\": {\"outlinewidth\": 0, \"ticks\": \"\"}, \"type\": \"mesh3d\"}], \"parcoords\": [{\"line\": {\"colorbar\": {\"outlinewidth\": 0, \"ticks\": \"\"}}, \"type\": \"parcoords\"}], \"pie\": [{\"automargin\": true, \"type\": \"pie\"}], \"scatter\": [{\"marker\": {\"colorbar\": {\"outlinewidth\": 0, \"ticks\": \"\"}}, \"type\": \"scatter\"}], \"scatter3d\": [{\"line\": {\"colorbar\": {\"outlinewidth\": 0, \"ticks\": \"\"}}, \"marker\": {\"colorbar\": {\"outlinewidth\": 0, \"ticks\": \"\"}}, \"type\": \"scatter3d\"}], \"scattercarpet\": [{\"marker\": {\"colorbar\": {\"outlinewidth\": 0, \"ticks\": \"\"}}, \"type\": \"scattercarpet\"}], \"scattergeo\": [{\"marker\": {\"colorbar\": {\"outlinewidth\": 0, \"ticks\": \"\"}}, \"type\": \"scattergeo\"}], \"scattergl\": [{\"marker\": {\"colorbar\": {\"outlinewidth\": 0, \"ticks\": \"\"}}, \"type\": \"scattergl\"}], \"scattermapbox\": [{\"marker\": {\"colorbar\": {\"outlinewidth\": 0, \"ticks\": \"\"}}, \"type\": \"scattermapbox\"}], \"scatterpolar\": [{\"marker\": {\"colorbar\": {\"outlinewidth\": 0, \"ticks\": \"\"}}, \"type\": \"scatterpolar\"}], \"scatterpolargl\": [{\"marker\": {\"colorbar\": {\"outlinewidth\": 0, \"ticks\": \"\"}}, \"type\": \"scatterpolargl\"}], \"scatterternary\": [{\"marker\": {\"colorbar\": {\"outlinewidth\": 0, \"ticks\": \"\"}}, \"type\": \"scatterternary\"}], \"surface\": [{\"colorbar\": {\"outlinewidth\": 0, \"ticks\": \"\"}, \"colorscale\": [[0.0, \"#0d0887\"], [0.1111111111111111, \"#46039f\"], [0.2222222222222222, \"#7201a8\"], [0.3333333333333333, \"#9c179e\"], [0.4444444444444444, \"#bd3786\"], [0.5555555555555556, \"#d8576b\"], [0.6666666666666666, \"#ed7953\"], [0.7777777777777778, \"#fb9f3a\"], [0.8888888888888888, \"#fdca26\"], [1.0, \"#f0f921\"]], \"type\": \"surface\"}], \"table\": [{\"cells\": {\"fill\": {\"color\": \"#EBF0F8\"}, \"line\": {\"color\": \"white\"}}, \"header\": {\"fill\": {\"color\": \"#C8D4E3\"}, \"line\": {\"color\": \"white\"}}, \"type\": \"table\"}]}, \"layout\": {\"annotationdefaults\": {\"arrowcolor\": \"#2a3f5f\", \"arrowhead\": 0, \"arrowwidth\": 1}, \"coloraxis\": {\"colorbar\": {\"outlinewidth\": 0, \"ticks\": \"\"}}, \"colorscale\": {\"diverging\": [[0, \"#8e0152\"], [0.1, \"#c51b7d\"], [0.2, \"#de77ae\"], [0.3, \"#f1b6da\"], [0.4, \"#fde0ef\"], [0.5, \"#f7f7f7\"], [0.6, \"#e6f5d0\"], [0.7, \"#b8e186\"], [0.8, \"#7fbc41\"], [0.9, \"#4d9221\"], [1, \"#276419\"]], \"sequential\": [[0.0, \"#0d0887\"], [0.1111111111111111, \"#46039f\"], [0.2222222222222222, \"#7201a8\"], [0.3333333333333333, \"#9c179e\"], [0.4444444444444444, \"#bd3786\"], [0.5555555555555556, \"#d8576b\"], [0.6666666666666666, \"#ed7953\"], [0.7777777777777778, \"#fb9f3a\"], [0.8888888888888888, \"#fdca26\"], [1.0, \"#f0f921\"]], \"sequentialminus\": [[0.0, \"#0d0887\"], [0.1111111111111111, \"#46039f\"], [0.2222222222222222, \"#7201a8\"], [0.3333333333333333, \"#9c179e\"], [0.4444444444444444, \"#bd3786\"], [0.5555555555555556, \"#d8576b\"], [0.6666666666666666, \"#ed7953\"], [0.7777777777777778, \"#fb9f3a\"], [0.8888888888888888, \"#fdca26\"], [1.0, \"#f0f921\"]]}, \"colorway\": [\"#636efa\", \"#EF553B\", \"#00cc96\", \"#ab63fa\", \"#FFA15A\", \"#19d3f3\", \"#FF6692\", \"#B6E880\", \"#FF97FF\", \"#FECB52\"], \"font\": {\"color\": \"#2a3f5f\"}, \"geo\": {\"bgcolor\": \"white\", \"lakecolor\": \"white\", \"landcolor\": \"#E5ECF6\", \"showlakes\": true, \"showland\": true, \"subunitcolor\": \"white\"}, \"hoverlabel\": {\"align\": \"left\"}, \"hovermode\": \"closest\", \"mapbox\": {\"style\": \"light\"}, \"paper_bgcolor\": \"white\", \"plot_bgcolor\": \"#E5ECF6\", \"polar\": {\"angularaxis\": {\"gridcolor\": \"white\", \"linecolor\": \"white\", \"ticks\": \"\"}, \"bgcolor\": \"#E5ECF6\", \"radialaxis\": {\"gridcolor\": \"white\", \"linecolor\": \"white\", \"ticks\": \"\"}}, \"scene\": {\"xaxis\": {\"backgroundcolor\": \"#E5ECF6\", \"gridcolor\": \"white\", \"gridwidth\": 2, \"linecolor\": \"white\", \"showbackground\": true, \"ticks\": \"\", \"zerolinecolor\": \"white\"}, \"yaxis\": {\"backgroundcolor\": \"#E5ECF6\", \"gridcolor\": \"white\", \"gridwidth\": 2, \"linecolor\": \"white\", \"showbackground\": true, \"ticks\": \"\", \"zerolinecolor\": \"white\"}, \"zaxis\": {\"backgroundcolor\": \"#E5ECF6\", \"gridcolor\": \"white\", \"gridwidth\": 2, \"linecolor\": \"white\", \"showbackground\": true, \"ticks\": \"\", \"zerolinecolor\": \"white\"}}, \"shapedefaults\": {\"line\": {\"color\": \"#2a3f5f\"}}, \"ternary\": {\"aaxis\": {\"gridcolor\": \"white\", \"linecolor\": \"white\", \"ticks\": \"\"}, \"baxis\": {\"gridcolor\": \"white\", \"linecolor\": \"white\", \"ticks\": \"\"}, \"bgcolor\": \"#E5ECF6\", \"caxis\": {\"gridcolor\": \"white\", \"linecolor\": \"white\", \"ticks\": \"\"}}, \"title\": {\"x\": 0.05}, \"xaxis\": {\"automargin\": true, \"gridcolor\": \"white\", \"linecolor\": \"white\", \"ticks\": \"\", \"title\": {\"standoff\": 15}, \"zerolinecolor\": \"white\", \"zerolinewidth\": 2}, \"yaxis\": {\"automargin\": true, \"gridcolor\": \"white\", \"linecolor\": \"white\", \"ticks\": \"\", \"title\": {\"standoff\": 15}, \"zerolinecolor\": \"white\", \"zerolinewidth\": 2}}}, \"xaxis\": {\"anchor\": \"y\", \"domain\": [0.0, 1.0]}, \"yaxis\": {\"anchor\": \"x\", \"domain\": [0.0, 1.0], \"type\": \"log\"}},\n",
              "                        {\"responsive\": true}\n",
              "                    ).then(function(){\n",
              "                            \n",
              "var gd = document.getElementById('09686b9a-eb2e-43bd-b507-b5634e63dfdb');\n",
              "var x = new MutationObserver(function (mutations, observer) {{\n",
              "        var display = window.getComputedStyle(gd).display;\n",
              "        if (!display || display === 'none') {{\n",
              "            console.log([gd, 'removed!']);\n",
              "            Plotly.purge(gd);\n",
              "            observer.disconnect();\n",
              "        }}\n",
              "}});\n",
              "\n",
              "// Listen for the removal of the full notebook cells\n",
              "var notebookContainer = gd.closest('#notebook-container');\n",
              "if (notebookContainer) {{\n",
              "    x.observe(notebookContainer, {childList: true});\n",
              "}}\n",
              "\n",
              "// Listen for the clearing of the current output cell\n",
              "var outputEl = gd.closest('.output');\n",
              "if (outputEl) {{\n",
              "    x.observe(outputEl, {childList: true});\n",
              "}}\n",
              "\n",
              "                        })\n",
              "                };\n",
              "                \n",
              "            </script>\n",
              "        </div>\n",
              "</body>\n",
              "</html>"
            ]
          },
          "metadata": {
            "tags": []
          }
        }
      ]
    },
    {
      "cell_type": "code",
      "metadata": {
        "colab": {
          "base_uri": "https://localhost:8080/"
        },
        "id": "tq7AYeaD2xmT",
        "outputId": "275905e7-4e27-4845-925e-629b29a20330"
      },
      "source": [
        "m.summary()"
      ],
      "execution_count": null,
      "outputs": [
        {
          "output_type": "stream",
          "text": [
            "Model: \"sequential_15\"\n",
            "_________________________________________________________________\n",
            "Layer (type)                 Output Shape              Param #   \n",
            "=================================================================\n",
            "dense_40 (Dense)             (1, 1000)                 61000     \n",
            "_________________________________________________________________\n",
            "dense_41 (Dense)             (1, 100)                  100100    \n",
            "_________________________________________________________________\n",
            "dense_42 (Dense)             (1, 10)                   1010      \n",
            "_________________________________________________________________\n",
            "dense_43 (Dense)             (1, 1)                    11        \n",
            "=================================================================\n",
            "Total params: 162,121\n",
            "Trainable params: 162,121\n",
            "Non-trainable params: 0\n",
            "_________________________________________________________________\n"
          ],
          "name": "stdout"
        }
      ]
    }
  ]
}